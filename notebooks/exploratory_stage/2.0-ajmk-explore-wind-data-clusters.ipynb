{
 "cells": [
  {
   "cell_type": "code",
   "execution_count": 1,
   "metadata": {},
   "outputs": [],
   "source": [
    "import pandas as pd\n",
    "from pathlib import Path\n",
    "import matplotlib.pyplot as plt\n",
    "import seaborn as sns\n",
    "import numpy as np\n",
    "from sklearn.decomposition import PCA\n",
    "from sklearn.manifold import TSNE\n"
   ]
  },
  {
   "cell_type": "code",
   "execution_count": 2,
   "metadata": {},
   "outputs": [
    {
     "data": {
      "text/plain": [
       "PosixPath('/Users/b1017579/Documents/PhD/Projects/14-temporal-granularity/temporal_granularity')"
      ]
     },
     "execution_count": 2,
     "metadata": {},
     "output_type": "execute_result"
    }
   ],
   "source": [
    "project_dir = Path(\"__file__\").resolve().parents[2]\n",
    "project_dir"
   ]
  },
  {
   "cell_type": "code",
   "execution_count": 4,
   "metadata": {},
   "outputs": [
    {
     "data": {
      "text/html": [
       "<div>\n",
       "<style scoped>\n",
       "    .dataframe tbody tr th:only-of-type {\n",
       "        vertical-align: middle;\n",
       "    }\n",
       "\n",
       "    .dataframe tbody tr th {\n",
       "        vertical-align: top;\n",
       "    }\n",
       "\n",
       "    .dataframe thead th {\n",
       "        text-align: right;\n",
       "    }\n",
       "</style>\n",
       "<table border=\"1\" class=\"dataframe\">\n",
       "  <thead>\n",
       "    <tr style=\"text-align: right;\">\n",
       "      <th></th>\n",
       "      <th>Unnamed: 0</th>\n",
       "      <th>time</th>\n",
       "      <th>offshore</th>\n",
       "      <th>onshore</th>\n",
       "    </tr>\n",
       "  </thead>\n",
       "  <tbody>\n",
       "    <tr>\n",
       "      <th>0</th>\n",
       "      <td>0</td>\n",
       "      <td>1980-01-01 00:00:00</td>\n",
       "      <td>0.2858</td>\n",
       "      <td>0.1496</td>\n",
       "    </tr>\n",
       "    <tr>\n",
       "      <th>1</th>\n",
       "      <td>1</td>\n",
       "      <td>1980-01-01 01:00:00</td>\n",
       "      <td>0.2827</td>\n",
       "      <td>0.1502</td>\n",
       "    </tr>\n",
       "    <tr>\n",
       "      <th>2</th>\n",
       "      <td>2</td>\n",
       "      <td>1980-01-01 02:00:00</td>\n",
       "      <td>0.2852</td>\n",
       "      <td>0.1485</td>\n",
       "    </tr>\n",
       "    <tr>\n",
       "      <th>3</th>\n",
       "      <td>3</td>\n",
       "      <td>1980-01-01 03:00:00</td>\n",
       "      <td>0.2920</td>\n",
       "      <td>0.1470</td>\n",
       "    </tr>\n",
       "    <tr>\n",
       "      <th>4</th>\n",
       "      <td>4</td>\n",
       "      <td>1980-01-01 04:00:00</td>\n",
       "      <td>0.3039</td>\n",
       "      <td>0.1489</td>\n",
       "    </tr>\n",
       "  </tbody>\n",
       "</table>\n",
       "</div>"
      ],
      "text/plain": [
       "   Unnamed: 0                 time  offshore  onshore\n",
       "0           0  1980-01-01 00:00:00    0.2858   0.1496\n",
       "1           1  1980-01-01 01:00:00    0.2827   0.1502\n",
       "2           2  1980-01-01 02:00:00    0.2852   0.1485\n",
       "3           3  1980-01-01 03:00:00    0.2920   0.1470\n",
       "4           4  1980-01-01 04:00:00    0.3039   0.1489"
      ]
     },
     "execution_count": 4,
     "metadata": {},
     "output_type": "execute_result"
    }
   ],
   "source": [
    "wind = pd.read_csv('{}/data/processed/resources/wind_processed.csv'.format(project_dir))\n",
    "wind.head()"
   ]
  },
  {
   "cell_type": "code",
   "execution_count": 6,
   "metadata": {},
   "outputs": [
    {
     "data": {
      "text/html": [
       "<div>\n",
       "<style scoped>\n",
       "    .dataframe tbody tr th:only-of-type {\n",
       "        vertical-align: middle;\n",
       "    }\n",
       "\n",
       "    .dataframe tbody tr th {\n",
       "        vertical-align: top;\n",
       "    }\n",
       "\n",
       "    .dataframe thead th {\n",
       "        text-align: right;\n",
       "    }\n",
       "</style>\n",
       "<table border=\"1\" class=\"dataframe\">\n",
       "  <thead>\n",
       "    <tr style=\"text-align: right;\">\n",
       "      <th></th>\n",
       "      <th>time</th>\n",
       "      <th>offshore</th>\n",
       "      <th>onshore</th>\n",
       "    </tr>\n",
       "  </thead>\n",
       "  <tbody>\n",
       "    <tr>\n",
       "      <th>0</th>\n",
       "      <td>1980-01-01 00:00:00</td>\n",
       "      <td>0.2858</td>\n",
       "      <td>0.1496</td>\n",
       "    </tr>\n",
       "    <tr>\n",
       "      <th>1</th>\n",
       "      <td>1980-01-01 01:00:00</td>\n",
       "      <td>0.2827</td>\n",
       "      <td>0.1502</td>\n",
       "    </tr>\n",
       "    <tr>\n",
       "      <th>2</th>\n",
       "      <td>1980-01-01 02:00:00</td>\n",
       "      <td>0.2852</td>\n",
       "      <td>0.1485</td>\n",
       "    </tr>\n",
       "    <tr>\n",
       "      <th>3</th>\n",
       "      <td>1980-01-01 03:00:00</td>\n",
       "      <td>0.2920</td>\n",
       "      <td>0.1470</td>\n",
       "    </tr>\n",
       "    <tr>\n",
       "      <th>4</th>\n",
       "      <td>1980-01-01 04:00:00</td>\n",
       "      <td>0.3039</td>\n",
       "      <td>0.1489</td>\n",
       "    </tr>\n",
       "  </tbody>\n",
       "</table>\n",
       "</div>"
      ],
      "text/plain": [
       "                  time  offshore  onshore\n",
       "0  1980-01-01 00:00:00    0.2858   0.1496\n",
       "1  1980-01-01 01:00:00    0.2827   0.1502\n",
       "2  1980-01-01 02:00:00    0.2852   0.1485\n",
       "3  1980-01-01 03:00:00    0.2920   0.1470\n",
       "4  1980-01-01 04:00:00    0.3039   0.1489"
      ]
     },
     "execution_count": 6,
     "metadata": {},
     "output_type": "execute_result"
    }
   ],
   "source": [
    "wind = wind.drop(\"Unnamed: 0\", axis=1)\n",
    "wind.head()"
   ]
  },
  {
   "cell_type": "code",
   "execution_count": 7,
   "metadata": {},
   "outputs": [
    {
     "data": {
      "text/plain": [
       "<matplotlib.axes._subplots.AxesSubplot at 0x11c68ea58>"
      ]
     },
     "execution_count": 7,
     "metadata": {},
     "output_type": "execute_result"
    },
    {
     "data": {
      "image/png": "[encoded data removed]",
      "text/plain": [
       "<Figure size 432x288 with 1 Axes>"
      ]
     },
     "metadata": {
      "needs_background": "light"
     },
     "output_type": "display_data"
    }
   ],
   "source": [
    "wind.plot()"
   ]
  },
  {
   "cell_type": "code",
   "execution_count": 10,
   "metadata": {},
   "outputs": [
    {
     "data": {
      "text/html": [
       "<div>\n",
       "<style scoped>\n",
       "    .dataframe tbody tr th:only-of-type {\n",
       "        vertical-align: middle;\n",
       "    }\n",
       "\n",
       "    .dataframe tbody tr th {\n",
       "        vertical-align: top;\n",
       "    }\n",
       "\n",
       "    .dataframe thead th {\n",
       "        text-align: right;\n",
       "    }\n",
       "</style>\n",
       "<table border=\"1\" class=\"dataframe\">\n",
       "  <thead>\n",
       "    <tr style=\"text-align: right;\">\n",
       "      <th></th>\n",
       "      <th>time</th>\n",
       "      <th>offshore</th>\n",
       "      <th>onshore</th>\n",
       "    </tr>\n",
       "  </thead>\n",
       "  <tbody>\n",
       "    <tr>\n",
       "      <th>262969</th>\n",
       "      <td>2010-01-01 01:00:00</td>\n",
       "      <td>0.4913</td>\n",
       "      <td>0.2208</td>\n",
       "    </tr>\n",
       "    <tr>\n",
       "      <th>262970</th>\n",
       "      <td>2010-01-01 02:00:00</td>\n",
       "      <td>0.4752</td>\n",
       "      <td>0.2307</td>\n",
       "    </tr>\n",
       "    <tr>\n",
       "      <th>262971</th>\n",
       "      <td>2010-01-01 03:00:00</td>\n",
       "      <td>0.4601</td>\n",
       "      <td>0.2423</td>\n",
       "    </tr>\n",
       "    <tr>\n",
       "      <th>262972</th>\n",
       "      <td>2010-01-01 04:00:00</td>\n",
       "      <td>0.4401</td>\n",
       "      <td>0.2540</td>\n",
       "    </tr>\n",
       "    <tr>\n",
       "      <th>262973</th>\n",
       "      <td>2010-01-01 05:00:00</td>\n",
       "      <td>0.4136</td>\n",
       "      <td>0.2539</td>\n",
       "    </tr>\n",
       "  </tbody>\n",
       "</table>\n",
       "</div>"
      ],
      "text/plain": [
       "                      time  offshore  onshore\n",
       "262969 2010-01-01 01:00:00    0.4913   0.2208\n",
       "262970 2010-01-01 02:00:00    0.4752   0.2307\n",
       "262971 2010-01-01 03:00:00    0.4601   0.2423\n",
       "262972 2010-01-01 04:00:00    0.4401   0.2540\n",
       "262973 2010-01-01 05:00:00    0.4136   0.2539"
      ]
     },
     "execution_count": 10,
     "metadata": {},
     "output_type": "execute_result"
    }
   ],
   "source": [
    "wind.time = pd.to_datetime(wind.time)\n",
    "wind_subset = wind[wind.time > \"2010\"]\n",
    "wind_subset.head()"
   ]
  },
  {
   "cell_type": "code",
   "execution_count": 12,
   "metadata": {},
   "outputs": [
    {
     "name": "stderr",
     "output_type": "stream",
     "text": [
      "/Users/b1017579/.pyenv/versions/3.6.6/lib/python3.6/site-packages/ipykernel_launcher.py:1: SettingWithCopyWarning: \n",
      "A value is trying to be set on a copy of a slice from a DataFrame.\n",
      "Try using .loc[row_indexer,col_indexer] = value instead\n",
      "\n",
      "See the caveats in the documentation: http://pandas.pydata.org/pandas-docs/stable/indexing.html#indexing-view-versus-copy\n",
      "  \"\"\"Entry point for launching an IPython kernel.\n",
      "/Users/b1017579/.pyenv/versions/3.6.6/lib/python3.6/site-packages/ipykernel_launcher.py:2: SettingWithCopyWarning: \n",
      "A value is trying to be set on a copy of a slice from a DataFrame.\n",
      "Try using .loc[row_indexer,col_indexer] = value instead\n",
      "\n",
      "See the caveats in the documentation: http://pandas.pydata.org/pandas-docs/stable/indexing.html#indexing-view-versus-copy\n",
      "  \n"
     ]
    },
    {
     "data": {
      "text/html": [
       "<div>\n",
       "<style scoped>\n",
       "    .dataframe tbody tr th:only-of-type {\n",
       "        vertical-align: middle;\n",
       "    }\n",
       "\n",
       "    .dataframe tbody tr th {\n",
       "        vertical-align: top;\n",
       "    }\n",
       "\n",
       "    .dataframe thead th {\n",
       "        text-align: right;\n",
       "    }\n",
       "</style>\n",
       "<table border=\"1\" class=\"dataframe\">\n",
       "  <thead>\n",
       "    <tr style=\"text-align: right;\">\n",
       "      <th></th>\n",
       "      <th>time</th>\n",
       "      <th>offshore</th>\n",
       "      <th>onshore</th>\n",
       "      <th>date</th>\n",
       "      <th>hour</th>\n",
       "    </tr>\n",
       "  </thead>\n",
       "  <tbody>\n",
       "    <tr>\n",
       "      <th>262969</th>\n",
       "      <td>2010-01-01 01:00:00</td>\n",
       "      <td>0.4913</td>\n",
       "      <td>0.2208</td>\n",
       "      <td>2010-01-01</td>\n",
       "      <td>1</td>\n",
       "    </tr>\n",
       "    <tr>\n",
       "      <th>262970</th>\n",
       "      <td>2010-01-01 02:00:00</td>\n",
       "      <td>0.4752</td>\n",
       "      <td>0.2307</td>\n",
       "      <td>2010-01-01</td>\n",
       "      <td>2</td>\n",
       "    </tr>\n",
       "    <tr>\n",
       "      <th>262971</th>\n",
       "      <td>2010-01-01 03:00:00</td>\n",
       "      <td>0.4601</td>\n",
       "      <td>0.2423</td>\n",
       "      <td>2010-01-01</td>\n",
       "      <td>3</td>\n",
       "    </tr>\n",
       "    <tr>\n",
       "      <th>262972</th>\n",
       "      <td>2010-01-01 04:00:00</td>\n",
       "      <td>0.4401</td>\n",
       "      <td>0.2540</td>\n",
       "      <td>2010-01-01</td>\n",
       "      <td>4</td>\n",
       "    </tr>\n",
       "    <tr>\n",
       "      <th>262973</th>\n",
       "      <td>2010-01-01 05:00:00</td>\n",
       "      <td>0.4136</td>\n",
       "      <td>0.2539</td>\n",
       "      <td>2010-01-01</td>\n",
       "      <td>5</td>\n",
       "    </tr>\n",
       "  </tbody>\n",
       "</table>\n",
       "</div>"
      ],
      "text/plain": [
       "                      time  offshore  onshore        date  hour\n",
       "262969 2010-01-01 01:00:00    0.4913   0.2208  2010-01-01     1\n",
       "262970 2010-01-01 02:00:00    0.4752   0.2307  2010-01-01     2\n",
       "262971 2010-01-01 03:00:00    0.4601   0.2423  2010-01-01     3\n",
       "262972 2010-01-01 04:00:00    0.4401   0.2540  2010-01-01     4\n",
       "262973 2010-01-01 05:00:00    0.4136   0.2539  2010-01-01     5"
      ]
     },
     "execution_count": 12,
     "metadata": {},
     "output_type": "execute_result"
    }
   ],
   "source": [
    "wind_subset['date'] = wind_subset['time'].dt.date\n",
    "wind_subset['hour'] = wind_subset['time'].dt.hour\n",
    "wind_subset.head()"
   ]
  },
  {
   "cell_type": "code",
   "execution_count": 13,
   "metadata": {},
   "outputs": [
    {
     "data": {
      "text/html": [
       "<div>\n",
       "<style scoped>\n",
       "    .dataframe tbody tr th:only-of-type {\n",
       "        vertical-align: middle;\n",
       "    }\n",
       "\n",
       "    .dataframe tbody tr th {\n",
       "        vertical-align: top;\n",
       "    }\n",
       "\n",
       "    .dataframe thead th {\n",
       "        text-align: right;\n",
       "    }\n",
       "</style>\n",
       "<table border=\"1\" class=\"dataframe\">\n",
       "  <thead>\n",
       "    <tr style=\"text-align: right;\">\n",
       "      <th>hour</th>\n",
       "      <th>0</th>\n",
       "      <th>1</th>\n",
       "      <th>2</th>\n",
       "      <th>3</th>\n",
       "      <th>4</th>\n",
       "      <th>5</th>\n",
       "      <th>6</th>\n",
       "      <th>7</th>\n",
       "      <th>8</th>\n",
       "      <th>9</th>\n",
       "      <th>...</th>\n",
       "      <th>14</th>\n",
       "      <th>15</th>\n",
       "      <th>16</th>\n",
       "      <th>17</th>\n",
       "      <th>18</th>\n",
       "      <th>19</th>\n",
       "      <th>20</th>\n",
       "      <th>21</th>\n",
       "      <th>22</th>\n",
       "      <th>23</th>\n",
       "    </tr>\n",
       "    <tr>\n",
       "      <th>date</th>\n",
       "      <th></th>\n",
       "      <th></th>\n",
       "      <th></th>\n",
       "      <th></th>\n",
       "      <th></th>\n",
       "      <th></th>\n",
       "      <th></th>\n",
       "      <th></th>\n",
       "      <th></th>\n",
       "      <th></th>\n",
       "      <th></th>\n",
       "      <th></th>\n",
       "      <th></th>\n",
       "      <th></th>\n",
       "      <th></th>\n",
       "      <th></th>\n",
       "      <th></th>\n",
       "      <th></th>\n",
       "      <th></th>\n",
       "      <th></th>\n",
       "      <th></th>\n",
       "    </tr>\n",
       "  </thead>\n",
       "  <tbody>\n",
       "    <tr>\n",
       "      <th>2010-01-02</th>\n",
       "      <td>0.2136</td>\n",
       "      <td>0.2379</td>\n",
       "      <td>0.2707</td>\n",
       "      <td>0.3203</td>\n",
       "      <td>0.3757</td>\n",
       "      <td>0.4129</td>\n",
       "      <td>0.4367</td>\n",
       "      <td>0.4378</td>\n",
       "      <td>0.4287</td>\n",
       "      <td>0.3945</td>\n",
       "      <td>...</td>\n",
       "      <td>0.3007</td>\n",
       "      <td>0.3667</td>\n",
       "      <td>0.4373</td>\n",
       "      <td>0.4798</td>\n",
       "      <td>0.5095</td>\n",
       "      <td>0.5531</td>\n",
       "      <td>0.5379</td>\n",
       "      <td>0.5015</td>\n",
       "      <td>0.4592</td>\n",
       "      <td>0.4290</td>\n",
       "    </tr>\n",
       "    <tr>\n",
       "      <th>2010-01-03</th>\n",
       "      <td>0.4132</td>\n",
       "      <td>0.4241</td>\n",
       "      <td>0.4520</td>\n",
       "      <td>0.4696</td>\n",
       "      <td>0.4612</td>\n",
       "      <td>0.4320</td>\n",
       "      <td>0.3871</td>\n",
       "      <td>0.3337</td>\n",
       "      <td>0.2812</td>\n",
       "      <td>0.2204</td>\n",
       "      <td>...</td>\n",
       "      <td>0.0548</td>\n",
       "      <td>0.0581</td>\n",
       "      <td>0.0714</td>\n",
       "      <td>0.0831</td>\n",
       "      <td>0.0886</td>\n",
       "      <td>0.0840</td>\n",
       "      <td>0.0751</td>\n",
       "      <td>0.0648</td>\n",
       "      <td>0.0570</td>\n",
       "      <td>0.0584</td>\n",
       "    </tr>\n",
       "    <tr>\n",
       "      <th>2010-01-04</th>\n",
       "      <td>0.0697</td>\n",
       "      <td>0.0887</td>\n",
       "      <td>0.1103</td>\n",
       "      <td>0.1358</td>\n",
       "      <td>0.1594</td>\n",
       "      <td>0.1794</td>\n",
       "      <td>0.1974</td>\n",
       "      <td>0.2116</td>\n",
       "      <td>0.2236</td>\n",
       "      <td>0.2125</td>\n",
       "      <td>...</td>\n",
       "      <td>0.2317</td>\n",
       "      <td>0.2577</td>\n",
       "      <td>0.2761</td>\n",
       "      <td>0.2818</td>\n",
       "      <td>0.2806</td>\n",
       "      <td>0.2758</td>\n",
       "      <td>0.2810</td>\n",
       "      <td>0.2952</td>\n",
       "      <td>0.3079</td>\n",
       "      <td>0.3178</td>\n",
       "    </tr>\n",
       "    <tr>\n",
       "      <th>2010-01-05</th>\n",
       "      <td>0.3224</td>\n",
       "      <td>0.3226</td>\n",
       "      <td>0.2961</td>\n",
       "      <td>0.2686</td>\n",
       "      <td>0.2734</td>\n",
       "      <td>0.2992</td>\n",
       "      <td>0.3235</td>\n",
       "      <td>0.3389</td>\n",
       "      <td>0.3332</td>\n",
       "      <td>0.3111</td>\n",
       "      <td>...</td>\n",
       "      <td>0.2022</td>\n",
       "      <td>0.2094</td>\n",
       "      <td>0.2245</td>\n",
       "      <td>0.2333</td>\n",
       "      <td>0.2374</td>\n",
       "      <td>0.2421</td>\n",
       "      <td>0.2535</td>\n",
       "      <td>0.2632</td>\n",
       "      <td>0.2757</td>\n",
       "      <td>0.2896</td>\n",
       "    </tr>\n",
       "    <tr>\n",
       "      <th>2010-01-06</th>\n",
       "      <td>0.3026</td>\n",
       "      <td>0.3135</td>\n",
       "      <td>0.3270</td>\n",
       "      <td>0.3474</td>\n",
       "      <td>0.3614</td>\n",
       "      <td>0.3833</td>\n",
       "      <td>0.4035</td>\n",
       "      <td>0.4134</td>\n",
       "      <td>0.4245</td>\n",
       "      <td>0.4344</td>\n",
       "      <td>...</td>\n",
       "      <td>0.3629</td>\n",
       "      <td>0.3709</td>\n",
       "      <td>0.3972</td>\n",
       "      <td>0.4307</td>\n",
       "      <td>0.4549</td>\n",
       "      <td>0.4665</td>\n",
       "      <td>0.4703</td>\n",
       "      <td>0.4485</td>\n",
       "      <td>0.4188</td>\n",
       "      <td>0.4085</td>\n",
       "    </tr>\n",
       "  </tbody>\n",
       "</table>\n",
       "<p>5 rows × 24 columns</p>\n",
       "</div>"
      ],
      "text/plain": [
       "hour            0       1       2       3       4       5       6       7   \\\n",
       "date                                                                         \n",
       "2010-01-02  0.2136  0.2379  0.2707  0.3203  0.3757  0.4129  0.4367  0.4378   \n",
       "2010-01-03  0.4132  0.4241  0.4520  0.4696  0.4612  0.4320  0.3871  0.3337   \n",
       "2010-01-04  0.0697  0.0887  0.1103  0.1358  0.1594  0.1794  0.1974  0.2116   \n",
       "2010-01-05  0.3224  0.3226  0.2961  0.2686  0.2734  0.2992  0.3235  0.3389   \n",
       "2010-01-06  0.3026  0.3135  0.3270  0.3474  0.3614  0.3833  0.4035  0.4134   \n",
       "\n",
       "hour            8       9   ...      14      15      16      17      18  \\\n",
       "date                        ...                                           \n",
       "2010-01-02  0.4287  0.3945  ...  0.3007  0.3667  0.4373  0.4798  0.5095   \n",
       "2010-01-03  0.2812  0.2204  ...  0.0548  0.0581  0.0714  0.0831  0.0886   \n",
       "2010-01-04  0.2236  0.2125  ...  0.2317  0.2577  0.2761  0.2818  0.2806   \n",
       "2010-01-05  0.3332  0.3111  ...  0.2022  0.2094  0.2245  0.2333  0.2374   \n",
       "2010-01-06  0.4245  0.4344  ...  0.3629  0.3709  0.3972  0.4307  0.4549   \n",
       "\n",
       "hour            19      20      21      22      23  \n",
       "date                                                \n",
       "2010-01-02  0.5531  0.5379  0.5015  0.4592  0.4290  \n",
       "2010-01-03  0.0840  0.0751  0.0648  0.0570  0.0584  \n",
       "2010-01-04  0.2758  0.2810  0.2952  0.3079  0.3178  \n",
       "2010-01-05  0.2421  0.2535  0.2632  0.2757  0.2896  \n",
       "2010-01-06  0.4665  0.4703  0.4485  0.4188  0.4085  \n",
       "\n",
       "[5 rows x 24 columns]"
      ]
     },
     "execution_count": 13,
     "metadata": {},
     "output_type": "execute_result"
    }
   ],
   "source": [
    "each_day = wind_subset.pivot(index='date', columns='hour', values='offshore')\n",
    "each_day = each_day.dropna()\n",
    "each_day.head()"
   ]
  },
  {
   "cell_type": "code",
   "execution_count": 15,
   "metadata": {},
   "outputs": [
    {
     "data": {
      "text/plain": [
       "<matplotlib.axes._subplots.AxesSubplot at 0x11e3bb2b0>"
      ]
     },
     "execution_count": 15,
     "metadata": {},
     "output_type": "execute_result"
    },
    {
     "data": {
      "image/png": "[encoded data removed]",
      "text/plain": [
       "<Figure size 432x288 with 1 Axes>"
      ]
     },
     "metadata": {
      "needs_background": "light"
     },
     "output_type": "display_data"
    }
   ],
   "source": [
    "# Visualise as PCA\n",
    "pca = PCA(n_components=2)\n",
    "\n",
    "pca_results = pca.fit_transform(each_day)\n",
    "\n",
    "principal_df = pd.DataFrame(data = pca_results, columns = ['principal component 1', 'principal component 2'])\n",
    "principal_df.plot()"
   ]
  },
  {
   "cell_type": "code",
   "execution_count": 17,
   "metadata": {},
   "outputs": [
    {
     "data": {
      "text/plain": [
       "<matplotlib.collections.PathCollection at 0x12407e0b8>"
      ]
     },
     "execution_count": 17,
     "metadata": {},
     "output_type": "execute_result"
    },
    {
     "data": {
      "image/png": "[encoded data removed]",
      "text/plain": [
       "<Figure size 432x288 with 1 Axes>"
      ]
     },
     "metadata": {
      "needs_background": "light"
     },
     "output_type": "display_data"
    }
   ],
   "source": [
    "plt.scatter(principal_df['principal component 1'],principal_df['principal component 2'])"
   ]
  },
  {
   "cell_type": "markdown",
   "metadata": {},
   "source": [
    "t-SNE"
   ]
  },
  {
   "cell_type": "code",
   "execution_count": 19,
   "metadata": {},
   "outputs": [
    {
     "data": {
      "image/png": "[encoded data removed]",
      "text/plain": [
       "<Figure size 432x288 with 1 Axes>"
      ]
     },
     "metadata": {
      "needs_background": "light"
     },
     "output_type": "display_data"
    }
   ],
   "source": [
    "tsne = TSNE(n_components=2, random_state=0, n_iter=2000, early_exaggeration=4)\n",
    "each_day_2d = tsne.fit_transform(each_day)\n",
    "\n",
    "plt.scatter(each_day_2d[:,0], each_day_2d[:,1])\n",
    "plt.show()"
   ]
  }
 ],
 "metadata": {
  "kernelspec": {
   "display_name": "Python 3",
   "language": "python",
   "name": "python3"
  },
  "language_info": {
   "codemirror_mode": {
    "name": "ipython",
    "version": 3
   },
   "file_extension": ".py",
   "mimetype": "text/x-python",
   "name": "python",
   "nbconvert_exporter": "python",
   "pygments_lexer": "ipython3",
   "version": "3.6.6"
  }
 },
 "nbformat": 4,
 "nbformat_minor": 2
}

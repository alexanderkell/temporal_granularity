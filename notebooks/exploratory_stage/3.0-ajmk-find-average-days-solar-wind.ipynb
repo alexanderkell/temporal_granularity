{
 "cells": [
  {
   "cell_type": "code",
   "execution_count": 1,
   "metadata": {},
   "outputs": [],
   "source": [
    "import pandas as pd\n",
    "from pathlib import Path\n",
    "import seaborn as sns\n",
    "from sklearn.cluster import KMeans\n",
    "from sklearn.decomposition import PCA\n",
    "import matplotlib.pyplot as plt\n",
    "from sklearn.manifold import TSNE\n",
    "from pandas.plotting import autocorrelation_plot\n",
    "from statsmodels.tsa.arima_model import ARIMA\n",
    "import statsmodels.api as sm\n",
    "from sklearn.metrics import pairwise_distances_argmin_min\n"
   ]
  },
  {
   "cell_type": "code",
   "execution_count": 2,
   "metadata": {},
   "outputs": [
    {
     "data": {
      "text/plain": [
       "PosixPath('/Users/b1017579/Documents/PhD/Projects/14-temporal-granularity/temporal_granularity')"
      ]
     },
     "execution_count": 2,
     "metadata": {},
     "output_type": "execute_result"
    }
   ],
   "source": [
    "project_dir = Path(\"__file__\").resolve().parents[2]\n",
    "project_dir"
   ]
  },
  {
   "cell_type": "code",
   "execution_count": 3,
   "metadata": {},
   "outputs": [
    {
     "data": {
      "text/html": [
       "<div>\n",
       "<style scoped>\n",
       "    .dataframe tbody tr th:only-of-type {\n",
       "        vertical-align: middle;\n",
       "    }\n",
       "\n",
       "    .dataframe tbody tr th {\n",
       "        vertical-align: top;\n",
       "    }\n",
       "\n",
       "    .dataframe thead th {\n",
       "        text-align: right;\n",
       "    }\n",
       "</style>\n",
       "<table border=\"1\" class=\"dataframe\">\n",
       "  <thead>\n",
       "    <tr style=\"text-align: right;\">\n",
       "      <th></th>\n",
       "      <th>Unnamed: 0</th>\n",
       "      <th>datetime</th>\n",
       "      <th>capacity_factor</th>\n",
       "    </tr>\n",
       "  </thead>\n",
       "  <tbody>\n",
       "    <tr>\n",
       "      <th>0</th>\n",
       "      <td>0</td>\n",
       "      <td>1980-01-01 00:00:00</td>\n",
       "      <td>0.0</td>\n",
       "    </tr>\n",
       "    <tr>\n",
       "      <th>1</th>\n",
       "      <td>1</td>\n",
       "      <td>1980-01-01 01:00:00</td>\n",
       "      <td>0.0</td>\n",
       "    </tr>\n",
       "    <tr>\n",
       "      <th>2</th>\n",
       "      <td>2</td>\n",
       "      <td>1980-01-01 02:00:00</td>\n",
       "      <td>0.0</td>\n",
       "    </tr>\n",
       "    <tr>\n",
       "      <th>3</th>\n",
       "      <td>3</td>\n",
       "      <td>1980-01-01 03:00:00</td>\n",
       "      <td>0.0</td>\n",
       "    </tr>\n",
       "    <tr>\n",
       "      <th>4</th>\n",
       "      <td>4</td>\n",
       "      <td>1980-01-01 04:00:00</td>\n",
       "      <td>0.0</td>\n",
       "    </tr>\n",
       "  </tbody>\n",
       "</table>\n",
       "</div>"
      ],
      "text/plain": [
       "   Unnamed: 0             datetime  capacity_factor\n",
       "0           0  1980-01-01 00:00:00              0.0\n",
       "1           1  1980-01-01 01:00:00              0.0\n",
       "2           2  1980-01-01 02:00:00              0.0\n",
       "3           3  1980-01-01 03:00:00              0.0\n",
       "4           4  1980-01-01 04:00:00              0.0"
      ]
     },
     "execution_count": 3,
     "metadata": {},
     "output_type": "execute_result"
    }
   ],
   "source": [
    "pv = pd.read_csv('{}/data/processed/resources/pv_processed.csv'.format(project_dir))\n",
    "pv.head()\n"
   ]
  },
  {
   "cell_type": "code",
   "execution_count": 4,
   "metadata": {},
   "outputs": [],
   "source": [
    "pv.datetime=pd.to_datetime(pv.datetime)"
   ]
  },
  {
   "cell_type": "code",
   "execution_count": 5,
   "metadata": {},
   "outputs": [],
   "source": [
    "pv.set_index('datetime', inplace=True)\n",
    "pv.index=pd.to_datetime(pv.index)\n"
   ]
  },
  {
   "cell_type": "code",
   "execution_count": 6,
   "metadata": {},
   "outputs": [],
   "source": [
    "bins = [0, 70, 163, 245, 358, 366]\n",
    "labels=['Winter', 'Spring', 'Summer', 'Autumn', 'Winter1']\n",
    "doy = pv.index.dayofyear\n",
    "pv_season = pv.copy()\n",
    "pv_season['season'] = pd.cut(doy + 11 - 366*(doy > 355), bins=bins, labels=labels)\n",
    "pv_season.loc[pv_season['season']=='Winter1','season']='Winter'"
   ]
  },
  {
   "cell_type": "code",
   "execution_count": 7,
   "metadata": {
    "scrolled": true
   },
   "outputs": [
    {
     "data": {
      "text/html": [
       "<div>\n",
       "<style scoped>\n",
       "    .dataframe tbody tr th:only-of-type {\n",
       "        vertical-align: middle;\n",
       "    }\n",
       "\n",
       "    .dataframe tbody tr th {\n",
       "        vertical-align: top;\n",
       "    }\n",
       "\n",
       "    .dataframe thead th {\n",
       "        text-align: right;\n",
       "    }\n",
       "</style>\n",
       "<table border=\"1\" class=\"dataframe\">\n",
       "  <thead>\n",
       "    <tr style=\"text-align: right;\">\n",
       "      <th></th>\n",
       "      <th>Unnamed: 0</th>\n",
       "      <th>capacity_factor</th>\n",
       "      <th>season</th>\n",
       "    </tr>\n",
       "    <tr>\n",
       "      <th>datetime</th>\n",
       "      <th></th>\n",
       "      <th></th>\n",
       "      <th></th>\n",
       "    </tr>\n",
       "  </thead>\n",
       "  <tbody>\n",
       "    <tr>\n",
       "      <th>1980-01-01 00:00:00</th>\n",
       "      <td>0</td>\n",
       "      <td>0.0</td>\n",
       "      <td>Winter</td>\n",
       "    </tr>\n",
       "    <tr>\n",
       "      <th>1980-01-01 01:00:00</th>\n",
       "      <td>1</td>\n",
       "      <td>0.0</td>\n",
       "      <td>Winter</td>\n",
       "    </tr>\n",
       "    <tr>\n",
       "      <th>1980-01-01 02:00:00</th>\n",
       "      <td>2</td>\n",
       "      <td>0.0</td>\n",
       "      <td>Winter</td>\n",
       "    </tr>\n",
       "    <tr>\n",
       "      <th>1980-01-01 03:00:00</th>\n",
       "      <td>3</td>\n",
       "      <td>0.0</td>\n",
       "      <td>Winter</td>\n",
       "    </tr>\n",
       "    <tr>\n",
       "      <th>1980-01-01 04:00:00</th>\n",
       "      <td>4</td>\n",
       "      <td>0.0</td>\n",
       "      <td>Winter</td>\n",
       "    </tr>\n",
       "  </tbody>\n",
       "</table>\n",
       "</div>"
      ],
      "text/plain": [
       "                     Unnamed: 0  capacity_factor  season\n",
       "datetime                                                \n",
       "1980-01-01 00:00:00           0              0.0  Winter\n",
       "1980-01-01 01:00:00           1              0.0  Winter\n",
       "1980-01-01 02:00:00           2              0.0  Winter\n",
       "1980-01-01 03:00:00           3              0.0  Winter\n",
       "1980-01-01 04:00:00           4              0.0  Winter"
      ]
     },
     "execution_count": 7,
     "metadata": {},
     "output_type": "execute_result"
    }
   ],
   "source": [
    "pv_season.head()"
   ]
  },
  {
   "cell_type": "code",
   "execution_count": 8,
   "metadata": {},
   "outputs": [
    {
     "data": {
      "text/html": [
       "<div>\n",
       "<style scoped>\n",
       "    .dataframe tbody tr th:only-of-type {\n",
       "        vertical-align: middle;\n",
       "    }\n",
       "\n",
       "    .dataframe tbody tr th {\n",
       "        vertical-align: top;\n",
       "    }\n",
       "\n",
       "    .dataframe thead th {\n",
       "        text-align: right;\n",
       "    }\n",
       "</style>\n",
       "<table border=\"1\" class=\"dataframe\">\n",
       "  <thead>\n",
       "    <tr style=\"text-align: right;\">\n",
       "      <th></th>\n",
       "      <th>Unnamed: 0</th>\n",
       "      <th>capacity_factor</th>\n",
       "      <th>season</th>\n",
       "      <th>hour</th>\n",
       "      <th>day</th>\n",
       "    </tr>\n",
       "    <tr>\n",
       "      <th>datetime</th>\n",
       "      <th></th>\n",
       "      <th></th>\n",
       "      <th></th>\n",
       "      <th></th>\n",
       "      <th></th>\n",
       "    </tr>\n",
       "  </thead>\n",
       "  <tbody>\n",
       "    <tr>\n",
       "      <th>1980-01-01 00:00:00</th>\n",
       "      <td>0</td>\n",
       "      <td>0.0</td>\n",
       "      <td>Winter</td>\n",
       "      <td>0</td>\n",
       "      <td>1</td>\n",
       "    </tr>\n",
       "    <tr>\n",
       "      <th>1980-01-01 01:00:00</th>\n",
       "      <td>1</td>\n",
       "      <td>0.0</td>\n",
       "      <td>Winter</td>\n",
       "      <td>1</td>\n",
       "      <td>1</td>\n",
       "    </tr>\n",
       "    <tr>\n",
       "      <th>1980-01-01 02:00:00</th>\n",
       "      <td>2</td>\n",
       "      <td>0.0</td>\n",
       "      <td>Winter</td>\n",
       "      <td>2</td>\n",
       "      <td>1</td>\n",
       "    </tr>\n",
       "    <tr>\n",
       "      <th>1980-01-01 03:00:00</th>\n",
       "      <td>3</td>\n",
       "      <td>0.0</td>\n",
       "      <td>Winter</td>\n",
       "      <td>3</td>\n",
       "      <td>1</td>\n",
       "    </tr>\n",
       "    <tr>\n",
       "      <th>1980-01-01 04:00:00</th>\n",
       "      <td>4</td>\n",
       "      <td>0.0</td>\n",
       "      <td>Winter</td>\n",
       "      <td>4</td>\n",
       "      <td>1</td>\n",
       "    </tr>\n",
       "  </tbody>\n",
       "</table>\n",
       "</div>"
      ],
      "text/plain": [
       "                     Unnamed: 0  capacity_factor  season  hour  day\n",
       "datetime                                                           \n",
       "1980-01-01 00:00:00           0              0.0  Winter     0    1\n",
       "1980-01-01 01:00:00           1              0.0  Winter     1    1\n",
       "1980-01-01 02:00:00           2              0.0  Winter     2    1\n",
       "1980-01-01 03:00:00           3              0.0  Winter     3    1\n",
       "1980-01-01 04:00:00           4              0.0  Winter     4    1"
      ]
     },
     "execution_count": 8,
     "metadata": {},
     "output_type": "execute_result"
    }
   ],
   "source": [
    "pv_hour_day = pv_season.copy()\n",
    "pv_hour_day['hour'] = pv.index.hour\n",
    "pv_hour_day['day'] = pv.index.dayofweek\n",
    "pv_hour_day.head()"
   ]
  },
  {
   "cell_type": "code",
   "execution_count": 9,
   "metadata": {},
   "outputs": [
    {
     "data": {
      "text/html": [
       "<div>\n",
       "<style scoped>\n",
       "    .dataframe tbody tr th:only-of-type {\n",
       "        vertical-align: middle;\n",
       "    }\n",
       "\n",
       "    .dataframe tbody tr th {\n",
       "        vertical-align: top;\n",
       "    }\n",
       "\n",
       "    .dataframe thead th {\n",
       "        text-align: right;\n",
       "    }\n",
       "</style>\n",
       "<table border=\"1\" class=\"dataframe\">\n",
       "  <thead>\n",
       "    <tr style=\"text-align: right;\">\n",
       "      <th></th>\n",
       "      <th>hour</th>\n",
       "      <th>season</th>\n",
       "      <th>capacity_factor</th>\n",
       "    </tr>\n",
       "  </thead>\n",
       "  <tbody>\n",
       "    <tr>\n",
       "      <th>0</th>\n",
       "      <td>0</td>\n",
       "      <td>Winter</td>\n",
       "      <td>0.0</td>\n",
       "    </tr>\n",
       "    <tr>\n",
       "      <th>1</th>\n",
       "      <td>0</td>\n",
       "      <td>Spring</td>\n",
       "      <td>0.0</td>\n",
       "    </tr>\n",
       "    <tr>\n",
       "      <th>2</th>\n",
       "      <td>0</td>\n",
       "      <td>Summer</td>\n",
       "      <td>0.0</td>\n",
       "    </tr>\n",
       "    <tr>\n",
       "      <th>3</th>\n",
       "      <td>0</td>\n",
       "      <td>Autumn</td>\n",
       "      <td>0.0</td>\n",
       "    </tr>\n",
       "    <tr>\n",
       "      <th>4</th>\n",
       "      <td>1</td>\n",
       "      <td>Winter</td>\n",
       "      <td>0.0</td>\n",
       "    </tr>\n",
       "  </tbody>\n",
       "</table>\n",
       "</div>"
      ],
      "text/plain": [
       "   hour  season  capacity_factor\n",
       "0     0  Winter              0.0\n",
       "1     0  Spring              0.0\n",
       "2     0  Summer              0.0\n",
       "3     0  Autumn              0.0\n",
       "4     1  Winter              0.0"
      ]
     },
     "execution_count": 9,
     "metadata": {},
     "output_type": "execute_result"
    }
   ],
   "source": [
    "average_day_df = pv_hour_day.groupby(['hour', 'season']).capacity_factor.mean()\n",
    "average_day_df = pd.DataFrame(average_day_df)\n",
    "average_day_df = average_day_df.reset_index()\n",
    "average_day_df.head()"
   ]
  },
  {
   "cell_type": "markdown",
   "metadata": {},
   "source": [
    "Average day of solar per season in Great Britain"
   ]
  },
  {
   "cell_type": "code",
   "execution_count": 10,
   "metadata": {},
   "outputs": [
    {
     "data": {
      "image/png": "[encoded data removed]",
      "text/plain": [
       "<Figure size 432x288 with 1 Axes>"
      ]
     },
     "metadata": {
      "needs_background": "light"
     },
     "output_type": "display_data"
    }
   ],
   "source": [
    "sns.lineplot(data=average_day_df, x='hour', y='capacity_factor', hue='season')\n",
    "plt.xlabel(\"Hour of average day (h)\")\n",
    "plt.ylabel(\"Capacity Factor\")\n",
    "plt.title(\"Average capacity factor for an average day per season for photovoltaics\")\n",
    "plt.show()"
   ]
  },
  {
   "cell_type": "markdown",
   "metadata": {},
   "source": [
    "Work on average day of wind in Great Britain"
   ]
  },
  {
   "cell_type": "code",
   "execution_count": 11,
   "metadata": {},
   "outputs": [
    {
     "data": {
      "text/html": [
       "<div>\n",
       "<style scoped>\n",
       "    .dataframe tbody tr th:only-of-type {\n",
       "        vertical-align: middle;\n",
       "    }\n",
       "\n",
       "    .dataframe tbody tr th {\n",
       "        vertical-align: top;\n",
       "    }\n",
       "\n",
       "    .dataframe thead th {\n",
       "        text-align: right;\n",
       "    }\n",
       "</style>\n",
       "<table border=\"1\" class=\"dataframe\">\n",
       "  <thead>\n",
       "    <tr style=\"text-align: right;\">\n",
       "      <th></th>\n",
       "      <th>Unnamed: 0</th>\n",
       "      <th>datetime</th>\n",
       "      <th>offshore</th>\n",
       "      <th>onshore</th>\n",
       "    </tr>\n",
       "  </thead>\n",
       "  <tbody>\n",
       "    <tr>\n",
       "      <th>0</th>\n",
       "      <td>0</td>\n",
       "      <td>1980-01-01 00:00:00</td>\n",
       "      <td>0.2858</td>\n",
       "      <td>0.1496</td>\n",
       "    </tr>\n",
       "    <tr>\n",
       "      <th>1</th>\n",
       "      <td>1</td>\n",
       "      <td>1980-01-01 01:00:00</td>\n",
       "      <td>0.2827</td>\n",
       "      <td>0.1502</td>\n",
       "    </tr>\n",
       "    <tr>\n",
       "      <th>2</th>\n",
       "      <td>2</td>\n",
       "      <td>1980-01-01 02:00:00</td>\n",
       "      <td>0.2852</td>\n",
       "      <td>0.1485</td>\n",
       "    </tr>\n",
       "    <tr>\n",
       "      <th>3</th>\n",
       "      <td>3</td>\n",
       "      <td>1980-01-01 03:00:00</td>\n",
       "      <td>0.2920</td>\n",
       "      <td>0.1470</td>\n",
       "    </tr>\n",
       "    <tr>\n",
       "      <th>4</th>\n",
       "      <td>4</td>\n",
       "      <td>1980-01-01 04:00:00</td>\n",
       "      <td>0.3039</td>\n",
       "      <td>0.1489</td>\n",
       "    </tr>\n",
       "  </tbody>\n",
       "</table>\n",
       "</div>"
      ],
      "text/plain": [
       "   Unnamed: 0             datetime  offshore  onshore\n",
       "0           0  1980-01-01 00:00:00    0.2858   0.1496\n",
       "1           1  1980-01-01 01:00:00    0.2827   0.1502\n",
       "2           2  1980-01-01 02:00:00    0.2852   0.1485\n",
       "3           3  1980-01-01 03:00:00    0.2920   0.1470\n",
       "4           4  1980-01-01 04:00:00    0.3039   0.1489"
      ]
     },
     "execution_count": 11,
     "metadata": {},
     "output_type": "execute_result"
    }
   ],
   "source": [
    "wind = pd.read_csv('{}/data/processed/resources/wind_processed.csv'.format(project_dir))\n",
    "wind = wind.rename(columns={\"time\":\"datetime\"})\n",
    "wind.head()"
   ]
  },
  {
   "cell_type": "code",
   "execution_count": 12,
   "metadata": {},
   "outputs": [],
   "source": [
    "wind.set_index('datetime', inplace=True)\n",
    "wind.index=pd.to_datetime(wind.index)\n"
   ]
  },
  {
   "cell_type": "code",
   "execution_count": 13,
   "metadata": {},
   "outputs": [
    {
     "data": {
      "text/html": [
       "<div>\n",
       "<style scoped>\n",
       "    .dataframe tbody tr th:only-of-type {\n",
       "        vertical-align: middle;\n",
       "    }\n",
       "\n",
       "    .dataframe tbody tr th {\n",
       "        vertical-align: top;\n",
       "    }\n",
       "\n",
       "    .dataframe thead th {\n",
       "        text-align: right;\n",
       "    }\n",
       "</style>\n",
       "<table border=\"1\" class=\"dataframe\">\n",
       "  <thead>\n",
       "    <tr style=\"text-align: right;\">\n",
       "      <th></th>\n",
       "      <th>Unnamed: 0</th>\n",
       "      <th>offshore</th>\n",
       "      <th>onshore</th>\n",
       "      <th>season</th>\n",
       "    </tr>\n",
       "    <tr>\n",
       "      <th>datetime</th>\n",
       "      <th></th>\n",
       "      <th></th>\n",
       "      <th></th>\n",
       "      <th></th>\n",
       "    </tr>\n",
       "  </thead>\n",
       "  <tbody>\n",
       "    <tr>\n",
       "      <th>1980-01-01 00:00:00</th>\n",
       "      <td>0</td>\n",
       "      <td>0.2858</td>\n",
       "      <td>0.1496</td>\n",
       "      <td>Winter</td>\n",
       "    </tr>\n",
       "    <tr>\n",
       "      <th>1980-01-01 01:00:00</th>\n",
       "      <td>1</td>\n",
       "      <td>0.2827</td>\n",
       "      <td>0.1502</td>\n",
       "      <td>Winter</td>\n",
       "    </tr>\n",
       "    <tr>\n",
       "      <th>1980-01-01 02:00:00</th>\n",
       "      <td>2</td>\n",
       "      <td>0.2852</td>\n",
       "      <td>0.1485</td>\n",
       "      <td>Winter</td>\n",
       "    </tr>\n",
       "    <tr>\n",
       "      <th>1980-01-01 03:00:00</th>\n",
       "      <td>3</td>\n",
       "      <td>0.2920</td>\n",
       "      <td>0.1470</td>\n",
       "      <td>Winter</td>\n",
       "    </tr>\n",
       "    <tr>\n",
       "      <th>1980-01-01 04:00:00</th>\n",
       "      <td>4</td>\n",
       "      <td>0.3039</td>\n",
       "      <td>0.1489</td>\n",
       "      <td>Winter</td>\n",
       "    </tr>\n",
       "  </tbody>\n",
       "</table>\n",
       "</div>"
      ],
      "text/plain": [
       "                     Unnamed: 0  offshore  onshore  season\n",
       "datetime                                                  \n",
       "1980-01-01 00:00:00           0    0.2858   0.1496  Winter\n",
       "1980-01-01 01:00:00           1    0.2827   0.1502  Winter\n",
       "1980-01-01 02:00:00           2    0.2852   0.1485  Winter\n",
       "1980-01-01 03:00:00           3    0.2920   0.1470  Winter\n",
       "1980-01-01 04:00:00           4    0.3039   0.1489  Winter"
      ]
     },
     "execution_count": 13,
     "metadata": {},
     "output_type": "execute_result"
    }
   ],
   "source": [
    "bins = [0, 70, 163, 245, 358, 366]\n",
    "labels=['Winter', 'Spring', 'Summer', 'Autumn', 'Winter1']\n",
    "doy = wind.index.dayofyear\n",
    "wind['season'] = pd.cut(doy + 11 - 366*(doy > 355), bins=bins, labels=labels)\n",
    "wind.loc[wind['season']=='Winter1','season']='Winter'\n",
    "wind.head()"
   ]
  },
  {
   "cell_type": "code",
   "execution_count": 14,
   "metadata": {},
   "outputs": [
    {
     "data": {
      "text/html": [
       "<div>\n",
       "<style scoped>\n",
       "    .dataframe tbody tr th:only-of-type {\n",
       "        vertical-align: middle;\n",
       "    }\n",
       "\n",
       "    .dataframe tbody tr th {\n",
       "        vertical-align: top;\n",
       "    }\n",
       "\n",
       "    .dataframe thead th {\n",
       "        text-align: right;\n",
       "    }\n",
       "</style>\n",
       "<table border=\"1\" class=\"dataframe\">\n",
       "  <thead>\n",
       "    <tr style=\"text-align: right;\">\n",
       "      <th></th>\n",
       "      <th>Unnamed: 0</th>\n",
       "      <th>offshore</th>\n",
       "      <th>onshore</th>\n",
       "      <th>season</th>\n",
       "      <th>hour</th>\n",
       "      <th>day</th>\n",
       "    </tr>\n",
       "    <tr>\n",
       "      <th>datetime</th>\n",
       "      <th></th>\n",
       "      <th></th>\n",
       "      <th></th>\n",
       "      <th></th>\n",
       "      <th></th>\n",
       "      <th></th>\n",
       "    </tr>\n",
       "  </thead>\n",
       "  <tbody>\n",
       "    <tr>\n",
       "      <th>1980-01-01 00:00:00</th>\n",
       "      <td>0</td>\n",
       "      <td>0.2858</td>\n",
       "      <td>0.1496</td>\n",
       "      <td>Winter</td>\n",
       "      <td>0</td>\n",
       "      <td>1</td>\n",
       "    </tr>\n",
       "    <tr>\n",
       "      <th>1980-01-01 01:00:00</th>\n",
       "      <td>1</td>\n",
       "      <td>0.2827</td>\n",
       "      <td>0.1502</td>\n",
       "      <td>Winter</td>\n",
       "      <td>1</td>\n",
       "      <td>1</td>\n",
       "    </tr>\n",
       "    <tr>\n",
       "      <th>1980-01-01 02:00:00</th>\n",
       "      <td>2</td>\n",
       "      <td>0.2852</td>\n",
       "      <td>0.1485</td>\n",
       "      <td>Winter</td>\n",
       "      <td>2</td>\n",
       "      <td>1</td>\n",
       "    </tr>\n",
       "    <tr>\n",
       "      <th>1980-01-01 03:00:00</th>\n",
       "      <td>3</td>\n",
       "      <td>0.2920</td>\n",
       "      <td>0.1470</td>\n",
       "      <td>Winter</td>\n",
       "      <td>3</td>\n",
       "      <td>1</td>\n",
       "    </tr>\n",
       "    <tr>\n",
       "      <th>1980-01-01 04:00:00</th>\n",
       "      <td>4</td>\n",
       "      <td>0.3039</td>\n",
       "      <td>0.1489</td>\n",
       "      <td>Winter</td>\n",
       "      <td>4</td>\n",
       "      <td>1</td>\n",
       "    </tr>\n",
       "  </tbody>\n",
       "</table>\n",
       "</div>"
      ],
      "text/plain": [
       "                     Unnamed: 0  offshore  onshore  season  hour  day\n",
       "datetime                                                             \n",
       "1980-01-01 00:00:00           0    0.2858   0.1496  Winter     0    1\n",
       "1980-01-01 01:00:00           1    0.2827   0.1502  Winter     1    1\n",
       "1980-01-01 02:00:00           2    0.2852   0.1485  Winter     2    1\n",
       "1980-01-01 03:00:00           3    0.2920   0.1470  Winter     3    1\n",
       "1980-01-01 04:00:00           4    0.3039   0.1489  Winter     4    1"
      ]
     },
     "execution_count": 14,
     "metadata": {},
     "output_type": "execute_result"
    }
   ],
   "source": [
    "wind_hour_day = wind.copy()\n",
    "wind_hour_day['hour'] = wind.index.hour\n",
    "wind_hour_day['day'] = wind.index.dayofweek\n",
    "wind_hour_day.head()"
   ]
  },
  {
   "cell_type": "code",
   "execution_count": 15,
   "metadata": {},
   "outputs": [
    {
     "data": {
      "text/html": [
       "<div>\n",
       "<style scoped>\n",
       "    .dataframe tbody tr th:only-of-type {\n",
       "        vertical-align: middle;\n",
       "    }\n",
       "\n",
       "    .dataframe tbody tr th {\n",
       "        vertical-align: top;\n",
       "    }\n",
       "\n",
       "    .dataframe thead th {\n",
       "        text-align: right;\n",
       "    }\n",
       "</style>\n",
       "<table border=\"1\" class=\"dataframe\">\n",
       "  <thead>\n",
       "    <tr style=\"text-align: right;\">\n",
       "      <th></th>\n",
       "      <th>hour</th>\n",
       "      <th>season</th>\n",
       "      <th>onshore</th>\n",
       "    </tr>\n",
       "  </thead>\n",
       "  <tbody>\n",
       "    <tr>\n",
       "      <th>0</th>\n",
       "      <td>0</td>\n",
       "      <td>Winter</td>\n",
       "      <td>0.382970</td>\n",
       "    </tr>\n",
       "    <tr>\n",
       "      <th>1</th>\n",
       "      <td>0</td>\n",
       "      <td>Spring</td>\n",
       "      <td>0.258715</td>\n",
       "    </tr>\n",
       "    <tr>\n",
       "      <th>2</th>\n",
       "      <td>0</td>\n",
       "      <td>Summer</td>\n",
       "      <td>0.187986</td>\n",
       "    </tr>\n",
       "    <tr>\n",
       "      <th>3</th>\n",
       "      <td>0</td>\n",
       "      <td>Autumn</td>\n",
       "      <td>0.302101</td>\n",
       "    </tr>\n",
       "    <tr>\n",
       "      <th>4</th>\n",
       "      <td>1</td>\n",
       "      <td>Winter</td>\n",
       "      <td>0.381591</td>\n",
       "    </tr>\n",
       "  </tbody>\n",
       "</table>\n",
       "</div>"
      ],
      "text/plain": [
       "   hour  season   onshore\n",
       "0     0  Winter  0.382970\n",
       "1     0  Spring  0.258715\n",
       "2     0  Summer  0.187986\n",
       "3     0  Autumn  0.302101\n",
       "4     1  Winter  0.381591"
      ]
     },
     "execution_count": 15,
     "metadata": {},
     "output_type": "execute_result"
    }
   ],
   "source": [
    "wind_average_day_df = wind_hour_day.groupby(['hour', 'season']).onshore.mean()\n",
    "wind_average_day_df = pd.DataFrame(wind_average_day_df)\n",
    "wind_average_day_df = wind_average_day_df.reset_index()\n",
    "wind_average_day_df.head()"
   ]
  },
  {
   "cell_type": "markdown",
   "metadata": {},
   "source": [
    "Average onshore wind by day by season "
   ]
  },
  {
   "cell_type": "code",
   "execution_count": 16,
   "metadata": {},
   "outputs": [
    {
     "data": {
      "image/png": "[encoded data removed]",
      "text/plain": [
       "<Figure size 432x288 with 1 Axes>"
      ]
     },
     "metadata": {
      "needs_background": "light"
     },
     "output_type": "display_data"
    }
   ],
   "source": [
    "sns.lineplot(data=wind_average_day_df, x='hour', y='onshore', hue='season')\n",
    "plt.xlabel(\"Hour of average day (h)\")\n",
    "plt.ylabel(\"Capacity Factor\")\n",
    "plt.title(\"Average capacity factor for an average day per season for onshore wind\")\n",
    "plt.show()"
   ]
  },
  {
   "cell_type": "code",
   "execution_count": 17,
   "metadata": {},
   "outputs": [
    {
     "data": {
      "text/html": [
       "<div>\n",
       "<style scoped>\n",
       "    .dataframe tbody tr th:only-of-type {\n",
       "        vertical-align: middle;\n",
       "    }\n",
       "\n",
       "    .dataframe tbody tr th {\n",
       "        vertical-align: top;\n",
       "    }\n",
       "\n",
       "    .dataframe thead th {\n",
       "        text-align: right;\n",
       "    }\n",
       "</style>\n",
       "<table border=\"1\" class=\"dataframe\">\n",
       "  <thead>\n",
       "    <tr style=\"text-align: right;\">\n",
       "      <th></th>\n",
       "      <th>hour</th>\n",
       "      <th>season</th>\n",
       "      <th>offshore</th>\n",
       "    </tr>\n",
       "  </thead>\n",
       "  <tbody>\n",
       "    <tr>\n",
       "      <th>0</th>\n",
       "      <td>0</td>\n",
       "      <td>Winter</td>\n",
       "      <td>0.489111</td>\n",
       "    </tr>\n",
       "    <tr>\n",
       "      <th>1</th>\n",
       "      <td>0</td>\n",
       "      <td>Spring</td>\n",
       "      <td>0.360949</td>\n",
       "    </tr>\n",
       "    <tr>\n",
       "      <th>2</th>\n",
       "      <td>0</td>\n",
       "      <td>Summer</td>\n",
       "      <td>0.281511</td>\n",
       "    </tr>\n",
       "    <tr>\n",
       "      <th>3</th>\n",
       "      <td>0</td>\n",
       "      <td>Autumn</td>\n",
       "      <td>0.406425</td>\n",
       "    </tr>\n",
       "    <tr>\n",
       "      <th>4</th>\n",
       "      <td>1</td>\n",
       "      <td>Winter</td>\n",
       "      <td>0.486993</td>\n",
       "    </tr>\n",
       "  </tbody>\n",
       "</table>\n",
       "</div>"
      ],
      "text/plain": [
       "   hour  season  offshore\n",
       "0     0  Winter  0.489111\n",
       "1     0  Spring  0.360949\n",
       "2     0  Summer  0.281511\n",
       "3     0  Autumn  0.406425\n",
       "4     1  Winter  0.486993"
      ]
     },
     "execution_count": 17,
     "metadata": {},
     "output_type": "execute_result"
    }
   ],
   "source": [
    "offshore_average_day_df = wind_hour_day.groupby(['hour', 'season']).offshore.mean()\n",
    "offshore_average_day_df = pd.DataFrame(offshore_average_day_df)\n",
    "offshore_average_day_df = offshore_average_day_df.reset_index()\n",
    "offshore_average_day_df.head()"
   ]
  },
  {
   "cell_type": "markdown",
   "metadata": {},
   "source": [
    "Average offshore day by season"
   ]
  },
  {
   "cell_type": "code",
   "execution_count": 18,
   "metadata": {},
   "outputs": [
    {
     "data": {
      "image/png": "[encoded data removed]",
      "text/plain": [
       "<Figure size 432x288 with 1 Axes>"
      ]
     },
     "metadata": {
      "needs_background": "light"
     },
     "output_type": "display_data"
    }
   ],
   "source": [
    "sns.lineplot(data=offshore_average_day_df, x='hour', y='offshore', hue='season')\n",
    "plt.xlabel(\"Hour of average day (h)\")\n",
    "plt.ylabel(\"Capacity Factor\")\n",
    "plt.title(\"Average capacity factor for an average day per season for offshore wind\")\n",
    "plt.show()"
   ]
  },
  {
   "cell_type": "markdown",
   "metadata": {},
   "source": [
    "# Find average using Clustering Techniques"
   ]
  },
  {
   "cell_type": "markdown",
   "metadata": {},
   "source": [
    "## K-Means Clustering"
   ]
  },
  {
   "cell_type": "markdown",
   "metadata": {},
   "source": [
    "Solar "
   ]
  },
  {
   "cell_type": "code",
   "execution_count": 19,
   "metadata": {},
   "outputs": [
    {
     "data": {
      "text/html": [
       "<div>\n",
       "<style scoped>\n",
       "    .dataframe tbody tr th:only-of-type {\n",
       "        vertical-align: middle;\n",
       "    }\n",
       "\n",
       "    .dataframe tbody tr th {\n",
       "        vertical-align: top;\n",
       "    }\n",
       "\n",
       "    .dataframe thead th {\n",
       "        text-align: right;\n",
       "    }\n",
       "</style>\n",
       "<table border=\"1\" class=\"dataframe\">\n",
       "  <thead>\n",
       "    <tr style=\"text-align: right;\">\n",
       "      <th></th>\n",
       "      <th>Unnamed: 0</th>\n",
       "      <th>capacity_factor</th>\n",
       "    </tr>\n",
       "    <tr>\n",
       "      <th>datetime</th>\n",
       "      <th></th>\n",
       "      <th></th>\n",
       "    </tr>\n",
       "  </thead>\n",
       "  <tbody>\n",
       "    <tr>\n",
       "      <th>1980-01-01 00:00:00</th>\n",
       "      <td>0</td>\n",
       "      <td>0.0</td>\n",
       "    </tr>\n",
       "    <tr>\n",
       "      <th>1980-01-01 01:00:00</th>\n",
       "      <td>1</td>\n",
       "      <td>0.0</td>\n",
       "    </tr>\n",
       "    <tr>\n",
       "      <th>1980-01-01 02:00:00</th>\n",
       "      <td>2</td>\n",
       "      <td>0.0</td>\n",
       "    </tr>\n",
       "    <tr>\n",
       "      <th>1980-01-01 03:00:00</th>\n",
       "      <td>3</td>\n",
       "      <td>0.0</td>\n",
       "    </tr>\n",
       "    <tr>\n",
       "      <th>1980-01-01 04:00:00</th>\n",
       "      <td>4</td>\n",
       "      <td>0.0</td>\n",
       "    </tr>\n",
       "  </tbody>\n",
       "</table>\n",
       "</div>"
      ],
      "text/plain": [
       "                     Unnamed: 0  capacity_factor\n",
       "datetime                                        \n",
       "1980-01-01 00:00:00           0              0.0\n",
       "1980-01-01 01:00:00           1              0.0\n",
       "1980-01-01 02:00:00           2              0.0\n",
       "1980-01-01 03:00:00           3              0.0\n",
       "1980-01-01 04:00:00           4              0.0"
      ]
     },
     "execution_count": 19,
     "metadata": {},
     "output_type": "execute_result"
    }
   ],
   "source": [
    "pv.head()"
   ]
  },
  {
   "cell_type": "code",
   "execution_count": 20,
   "metadata": {},
   "outputs": [
    {
     "data": {
      "text/html": [
       "<div>\n",
       "<style scoped>\n",
       "    .dataframe tbody tr th:only-of-type {\n",
       "        vertical-align: middle;\n",
       "    }\n",
       "\n",
       "    .dataframe tbody tr th {\n",
       "        vertical-align: top;\n",
       "    }\n",
       "\n",
       "    .dataframe thead th {\n",
       "        text-align: right;\n",
       "    }\n",
       "</style>\n",
       "<table border=\"1\" class=\"dataframe\">\n",
       "  <thead>\n",
       "    <tr style=\"text-align: right;\">\n",
       "      <th></th>\n",
       "      <th>Unnamed: 0</th>\n",
       "      <th>capacity_factor</th>\n",
       "      <th>date</th>\n",
       "      <th>hour</th>\n",
       "      <th>year</th>\n",
       "    </tr>\n",
       "    <tr>\n",
       "      <th>datetime</th>\n",
       "      <th></th>\n",
       "      <th></th>\n",
       "      <th></th>\n",
       "      <th></th>\n",
       "      <th></th>\n",
       "    </tr>\n",
       "  </thead>\n",
       "  <tbody>\n",
       "    <tr>\n",
       "      <th>1980-01-01 00:00:00</th>\n",
       "      <td>0</td>\n",
       "      <td>0.0</td>\n",
       "      <td>1980-01-01</td>\n",
       "      <td>0</td>\n",
       "      <td>1980</td>\n",
       "    </tr>\n",
       "    <tr>\n",
       "      <th>1980-01-01 01:00:00</th>\n",
       "      <td>1</td>\n",
       "      <td>0.0</td>\n",
       "      <td>1980-01-01</td>\n",
       "      <td>1</td>\n",
       "      <td>1980</td>\n",
       "    </tr>\n",
       "    <tr>\n",
       "      <th>1980-01-01 02:00:00</th>\n",
       "      <td>2</td>\n",
       "      <td>0.0</td>\n",
       "      <td>1980-01-01</td>\n",
       "      <td>2</td>\n",
       "      <td>1980</td>\n",
       "    </tr>\n",
       "    <tr>\n",
       "      <th>1980-01-01 03:00:00</th>\n",
       "      <td>3</td>\n",
       "      <td>0.0</td>\n",
       "      <td>1980-01-01</td>\n",
       "      <td>3</td>\n",
       "      <td>1980</td>\n",
       "    </tr>\n",
       "    <tr>\n",
       "      <th>1980-01-01 04:00:00</th>\n",
       "      <td>4</td>\n",
       "      <td>0.0</td>\n",
       "      <td>1980-01-01</td>\n",
       "      <td>4</td>\n",
       "      <td>1980</td>\n",
       "    </tr>\n",
       "  </tbody>\n",
       "</table>\n",
       "</div>"
      ],
      "text/plain": [
       "                     Unnamed: 0  capacity_factor        date  hour  year\n",
       "datetime                                                                \n",
       "1980-01-01 00:00:00           0              0.0  1980-01-01     0  1980\n",
       "1980-01-01 01:00:00           1              0.0  1980-01-01     1  1980\n",
       "1980-01-01 02:00:00           2              0.0  1980-01-01     2  1980\n",
       "1980-01-01 03:00:00           3              0.0  1980-01-01     3  1980\n",
       "1980-01-01 04:00:00           4              0.0  1980-01-01     4  1980"
      ]
     },
     "execution_count": 20,
     "metadata": {},
     "output_type": "execute_result"
    }
   ],
   "source": [
    "pv_date_hour = pv.copy()\n",
    "pv_date_hour['date'] = pv_date_hour.index.date\n",
    "pv_date_hour['hour'] = pv_date_hour.index.hour\n",
    "pv_date_hour['year'] = pv_date_hour.index.year\n",
    "pv_date_hour.head()"
   ]
  },
  {
   "cell_type": "code",
   "execution_count": 21,
   "metadata": {},
   "outputs": [
    {
     "data": {
      "text/html": [
       "<div>\n",
       "<style scoped>\n",
       "    .dataframe tbody tr th:only-of-type {\n",
       "        vertical-align: middle;\n",
       "    }\n",
       "\n",
       "    .dataframe tbody tr th {\n",
       "        vertical-align: top;\n",
       "    }\n",
       "\n",
       "    .dataframe thead th {\n",
       "        text-align: right;\n",
       "    }\n",
       "</style>\n",
       "<table border=\"1\" class=\"dataframe\">\n",
       "  <thead>\n",
       "    <tr style=\"text-align: right;\">\n",
       "      <th>hour</th>\n",
       "      <th>0</th>\n",
       "      <th>1</th>\n",
       "      <th>2</th>\n",
       "      <th>3</th>\n",
       "      <th>4</th>\n",
       "      <th>5</th>\n",
       "      <th>6</th>\n",
       "      <th>7</th>\n",
       "      <th>8</th>\n",
       "      <th>9</th>\n",
       "      <th>...</th>\n",
       "      <th>14</th>\n",
       "      <th>15</th>\n",
       "      <th>16</th>\n",
       "      <th>17</th>\n",
       "      <th>18</th>\n",
       "      <th>19</th>\n",
       "      <th>20</th>\n",
       "      <th>21</th>\n",
       "      <th>22</th>\n",
       "      <th>23</th>\n",
       "    </tr>\n",
       "    <tr>\n",
       "      <th>date</th>\n",
       "      <th></th>\n",
       "      <th></th>\n",
       "      <th></th>\n",
       "      <th></th>\n",
       "      <th></th>\n",
       "      <th></th>\n",
       "      <th></th>\n",
       "      <th></th>\n",
       "      <th></th>\n",
       "      <th></th>\n",
       "      <th></th>\n",
       "      <th></th>\n",
       "      <th></th>\n",
       "      <th></th>\n",
       "      <th></th>\n",
       "      <th></th>\n",
       "      <th></th>\n",
       "      <th></th>\n",
       "      <th></th>\n",
       "      <th></th>\n",
       "      <th></th>\n",
       "    </tr>\n",
       "  </thead>\n",
       "  <tbody>\n",
       "    <tr>\n",
       "      <th>1980-01-01</th>\n",
       "      <td>0.0</td>\n",
       "      <td>0.0</td>\n",
       "      <td>0.0</td>\n",
       "      <td>0.0</td>\n",
       "      <td>0.0</td>\n",
       "      <td>0.0</td>\n",
       "      <td>0.0</td>\n",
       "      <td>0.0</td>\n",
       "      <td>0.0013</td>\n",
       "      <td>0.0327</td>\n",
       "      <td>...</td>\n",
       "      <td>0.1031</td>\n",
       "      <td>0.0207</td>\n",
       "      <td>0.0</td>\n",
       "      <td>0.0</td>\n",
       "      <td>0.0</td>\n",
       "      <td>0.0</td>\n",
       "      <td>0.0</td>\n",
       "      <td>0.0</td>\n",
       "      <td>0.0</td>\n",
       "      <td>0.0</td>\n",
       "    </tr>\n",
       "    <tr>\n",
       "      <th>1980-01-02</th>\n",
       "      <td>0.0</td>\n",
       "      <td>0.0</td>\n",
       "      <td>0.0</td>\n",
       "      <td>0.0</td>\n",
       "      <td>0.0</td>\n",
       "      <td>0.0</td>\n",
       "      <td>0.0</td>\n",
       "      <td>0.0</td>\n",
       "      <td>0.0150</td>\n",
       "      <td>0.1240</td>\n",
       "      <td>...</td>\n",
       "      <td>0.1508</td>\n",
       "      <td>0.0294</td>\n",
       "      <td>0.0</td>\n",
       "      <td>0.0</td>\n",
       "      <td>0.0</td>\n",
       "      <td>0.0</td>\n",
       "      <td>0.0</td>\n",
       "      <td>0.0</td>\n",
       "      <td>0.0</td>\n",
       "      <td>0.0</td>\n",
       "    </tr>\n",
       "    <tr>\n",
       "      <th>1980-01-03</th>\n",
       "      <td>0.0</td>\n",
       "      <td>0.0</td>\n",
       "      <td>0.0</td>\n",
       "      <td>0.0</td>\n",
       "      <td>0.0</td>\n",
       "      <td>0.0</td>\n",
       "      <td>0.0</td>\n",
       "      <td>0.0</td>\n",
       "      <td>0.0005</td>\n",
       "      <td>0.0073</td>\n",
       "      <td>...</td>\n",
       "      <td>0.0070</td>\n",
       "      <td>0.0008</td>\n",
       "      <td>0.0</td>\n",
       "      <td>0.0</td>\n",
       "      <td>0.0</td>\n",
       "      <td>0.0</td>\n",
       "      <td>0.0</td>\n",
       "      <td>0.0</td>\n",
       "      <td>0.0</td>\n",
       "      <td>0.0</td>\n",
       "    </tr>\n",
       "    <tr>\n",
       "      <th>1980-01-04</th>\n",
       "      <td>0.0</td>\n",
       "      <td>0.0</td>\n",
       "      <td>0.0</td>\n",
       "      <td>0.0</td>\n",
       "      <td>0.0</td>\n",
       "      <td>0.0</td>\n",
       "      <td>0.0</td>\n",
       "      <td>0.0</td>\n",
       "      <td>0.0011</td>\n",
       "      <td>0.0405</td>\n",
       "      <td>...</td>\n",
       "      <td>0.0706</td>\n",
       "      <td>0.0111</td>\n",
       "      <td>0.0</td>\n",
       "      <td>0.0</td>\n",
       "      <td>0.0</td>\n",
       "      <td>0.0</td>\n",
       "      <td>0.0</td>\n",
       "      <td>0.0</td>\n",
       "      <td>0.0</td>\n",
       "      <td>0.0</td>\n",
       "    </tr>\n",
       "    <tr>\n",
       "      <th>1980-01-05</th>\n",
       "      <td>0.0</td>\n",
       "      <td>0.0</td>\n",
       "      <td>0.0</td>\n",
       "      <td>0.0</td>\n",
       "      <td>0.0</td>\n",
       "      <td>0.0</td>\n",
       "      <td>0.0</td>\n",
       "      <td>0.0</td>\n",
       "      <td>0.0018</td>\n",
       "      <td>0.0341</td>\n",
       "      <td>...</td>\n",
       "      <td>0.0733</td>\n",
       "      <td>0.0116</td>\n",
       "      <td>0.0</td>\n",
       "      <td>0.0</td>\n",
       "      <td>0.0</td>\n",
       "      <td>0.0</td>\n",
       "      <td>0.0</td>\n",
       "      <td>0.0</td>\n",
       "      <td>0.0</td>\n",
       "      <td>0.0</td>\n",
       "    </tr>\n",
       "  </tbody>\n",
       "</table>\n",
       "<p>5 rows × 24 columns</p>\n",
       "</div>"
      ],
      "text/plain": [
       "hour         0    1    2    3    4    5    6    7       8       9   ...  \\\n",
       "date                                                                ...   \n",
       "1980-01-01  0.0  0.0  0.0  0.0  0.0  0.0  0.0  0.0  0.0013  0.0327  ...   \n",
       "1980-01-02  0.0  0.0  0.0  0.0  0.0  0.0  0.0  0.0  0.0150  0.1240  ...   \n",
       "1980-01-03  0.0  0.0  0.0  0.0  0.0  0.0  0.0  0.0  0.0005  0.0073  ...   \n",
       "1980-01-04  0.0  0.0  0.0  0.0  0.0  0.0  0.0  0.0  0.0011  0.0405  ...   \n",
       "1980-01-05  0.0  0.0  0.0  0.0  0.0  0.0  0.0  0.0  0.0018  0.0341  ...   \n",
       "\n",
       "hour            14      15   16   17   18   19   20   21   22   23  \n",
       "date                                                                \n",
       "1980-01-01  0.1031  0.0207  0.0  0.0  0.0  0.0  0.0  0.0  0.0  0.0  \n",
       "1980-01-02  0.1508  0.0294  0.0  0.0  0.0  0.0  0.0  0.0  0.0  0.0  \n",
       "1980-01-03  0.0070  0.0008  0.0  0.0  0.0  0.0  0.0  0.0  0.0  0.0  \n",
       "1980-01-04  0.0706  0.0111  0.0  0.0  0.0  0.0  0.0  0.0  0.0  0.0  \n",
       "1980-01-05  0.0733  0.0116  0.0  0.0  0.0  0.0  0.0  0.0  0.0  0.0  \n",
       "\n",
       "[5 rows x 24 columns]"
      ]
     },
     "execution_count": 21,
     "metadata": {},
     "output_type": "execute_result"
    }
   ],
   "source": [
    "pv_each_day = pv_date_hour.pivot(index='date', columns='hour', values='capacity_factor')\n",
    "pv_each_day = pv_each_day.dropna()\n",
    "pv_each_day.head()"
   ]
  },
  {
   "cell_type": "code",
   "execution_count": 22,
   "metadata": {},
   "outputs": [
    {
     "data": {
      "text/plain": [
       "<matplotlib.axes._subplots.AxesSubplot at 0x11b4ba860>"
      ]
     },
     "execution_count": 22,
     "metadata": {},
     "output_type": "execute_result"
    },
    {
     "data": {
      "image/png": "[encoded data removed]",
      "text/plain": [
       "<Figure size 432x288 with 1 Axes>"
      ]
     },
     "metadata": {
      "needs_background": "light"
     },
     "output_type": "display_data"
    }
   ],
   "source": [
    "# Visualise as PCA\n",
    "pca = PCA(n_components=3)\n",
    "\n",
    "pca_results = pca.fit_transform(pv_each_day)\n",
    "\n",
    "principal_df = pd.DataFrame(data = pca_results, columns = ['pc_1', 'pc_2','pc_3']).dropna()\n",
    "principal_df.plot()"
   ]
  },
  {
   "cell_type": "code",
   "execution_count": 23,
   "metadata": {},
   "outputs": [
    {
     "data": {
      "image/png": "[encoded data removed]",
      "text/plain": [
       "<Figure size 432x288 with 1 Axes>"
      ]
     },
     "metadata": {
      "needs_background": "light"
     },
     "output_type": "display_data"
    }
   ],
   "source": [
    "plt.scatter(principal_df['pc_1'],principal_df['pc_2'])\n",
    "plt.show()"
   ]
  },
  {
   "cell_type": "code",
   "execution_count": null,
   "metadata": {},
   "outputs": [],
   "source": [
    "kmeans_4 = KMeans(n_clusters=4)\n",
    "kmeans_4.fit(pv_each_day)\n",
    "pv_y_kmeans = kmeans_4.predict(pv_each_day)"
   ]
  },
  {
   "cell_type": "code",
   "execution_count": null,
   "metadata": {},
   "outputs": [
    {
     "data": {
      "image/png": "[encoded data removed]",
      "text/plain": [
       "<Figure size 432x288 with 1 Axes>"
      ]
     },
     "metadata": {
      "needs_background": "light"
     },
     "output_type": "display_data"
    }
   ],
   "source": [
    "plt.scatter(principal_df.pc_1, principal_df.pc_2, c=pv_y_kmeans)\n",
    "plt.xlabel(\"Principal component 1\")\n",
    "plt.ylabel(\"Principal component 2\")\n",
    "plt.title(\"K-Means for each day Capacity factor for photovoltaics in Great Britain \\n between 1980-2016 visualised using PCA\")\n",
    "plt.show()"
   ]
  },
  {
   "cell_type": "code",
   "execution_count": null,
   "metadata": {},
   "outputs": [
    {
     "data": {
      "image/png": "[encoded data removed]",
      "text/plain": [
       "<Figure size 432x288 with 1 Axes>"
      ]
     },
     "metadata": {
      "needs_background": "light"
     },
     "output_type": "display_data"
    }
   ],
   "source": [
    "plt.scatter(principal_df.pc_2, principal_df.pc_3, c=pv_y_kmeans)\n",
    "plt.xlabel(\"Principal component 2\")\n",
    "plt.ylabel(\"Principal component 3\")\n",
    "plt.title(\"K-Means for each day Capacity factor for photovoltaics in Great Britain \\n between 1980-2016 visualised using PCA\")\n",
    "plt.show()"
   ]
  },
  {
   "cell_type": "code",
   "execution_count": null,
   "metadata": {},
   "outputs": [
    {
     "data": {
      "image/png": "[encoded data removed]",
      "text/plain": [
       "<Figure size 432x288 with 1 Axes>"
      ]
     },
     "metadata": {
      "needs_background": "light"
     },
     "output_type": "display_data"
    }
   ],
   "source": [
    "plt.scatter(principal_df.pc_1, principal_df.pc_3, c=pv_y_kmeans)\n",
    "plt.xlabel(\"Principal component 1\")\n",
    "plt.ylabel(\"Principal component 3\")\n",
    "plt.title(\"K-Means for each day Capacity factor for photovoltaics in Great Britain \\n between 1980-2016 visualised using PCA\")\n",
    "plt.show()"
   ]
  },
  {
   "cell_type": "code",
   "execution_count": null,
   "metadata": {},
   "outputs": [],
   "source": [
    "tsne = TSNE(n_components=3, random_state=0)\n",
    "pv_each_day_2d = tsne.fit_transform(pv_each_day)"
   ]
  },
  {
   "cell_type": "code",
   "execution_count": null,
   "metadata": {},
   "outputs": [],
   "source": [
    "plt.scatter(pv_each_day_2d[:,0], pv_each_day_2d[:,1], c=pv_y_kmeans)\n",
    "plt.xlabel(\"Principal component 1\")\n",
    "plt.ylabel(\"Principal component 2\")\n",
    "plt.title(\"K-Means for each day Capacity factor for photovoltaics in Great Britain \\n between 1980-2016 visualised using t-SNE\")\n",
    "plt.show()"
   ]
  },
  {
   "cell_type": "code",
   "execution_count": null,
   "metadata": {},
   "outputs": [],
   "source": [
    "plt.scatter(pv_each_day_2d[:,1], pv_each_day_2d[:,2], c=pv_y_kmeans)\n",
    "plt.xlabel(\"Principal component 2\")\n",
    "plt.ylabel(\"Principal component 3\")\n",
    "plt.title(\"K-Means for each day Capacity factor for photovoltaics in Great Britain \\n between 1980-2016 visualised using t-SNE\")\n",
    "plt.show()"
   ]
  },
  {
   "cell_type": "code",
   "execution_count": null,
   "metadata": {},
   "outputs": [],
   "source": [
    "plt.scatter(pv_each_day_2d[:,0], pv_each_day_2d[:,2], c=pv_y_kmeans)\n",
    "plt.xlabel(\"Principal component 1\")\n",
    "plt.ylabel(\"Principal component 3\")\n",
    "plt.title(\"K-Means for each day Capacity factor for photovoltaics in Great Britain \\n between 1980-2016 visualised using t-SNE\")\n",
    "plt.show()"
   ]
  },
  {
   "cell_type": "code",
   "execution_count": null,
   "metadata": {},
   "outputs": [],
   "source": [
    "pv_centres = kmeans_4.cluster_centers_\n",
    "pv_centres_df = pd.DataFrame(pv_centres)\n",
    "pv_centres_df['cluster'] = pv_centres_df.index\n",
    "pv_centres_df.reset_index()\n",
    "pv_centres_df.head()"
   ]
  },
  {
   "cell_type": "code",
   "execution_count": null,
   "metadata": {},
   "outputs": [],
   "source": [
    "pv_centres_df_long = pd.melt(pv_centres_df, id_vars=\"cluster\", value_vars=[0,         1,         2,         3,         4,         5,\n",
    "               6,         7,         8,         9,        10,        11,\n",
    "              12,        13,        14,        15,        16,        17,\n",
    "              18,        19,        20,        21,        22,        23,])\n",
    "pv_centres_df_long.head()"
   ]
  },
  {
   "cell_type": "code",
   "execution_count": null,
   "metadata": {},
   "outputs": [],
   "source": [
    "sns.lineplot(data=pv_centres_df_long, hue='cluster', y='value', x='variable')\n",
    "plt.xlabel(\"Hour of average day (h)\")\n",
    "plt.ylabel(\"Capacity Factor\")\n",
    "plt.title(\"Average capacity factor for an average day per cluster for Photovoltaics\")\n",
    "plt.show()"
   ]
  },
  {
   "cell_type": "markdown",
   "metadata": {},
   "source": [
    "Finding medoids"
   ]
  },
  {
   "cell_type": "code",
   "execution_count": null,
   "metadata": {},
   "outputs": [],
   "source": [
    "pv_closest, _ = pairwise_distances_argmin_min(kmeans_4.cluster_centers_, pv_each_day.loc[:, pv_each_day.columns != 'clusters'])\n"
   ]
  },
  {
   "cell_type": "code",
   "execution_count": null,
   "metadata": {},
   "outputs": [],
   "source": [
    "def get_medoids(index, data):\n",
    "    closest_datapoint = pd.DataFrame(data.iloc[index,:])\n",
    "    closest_datapoint['cluster']=closest_datapoint.iloc[24,0]\n",
    "    closest_datapoint=closest_datapoint.drop('clusters', axis=0)\n",
    "    closest_datapoint = closest_datapoint.rename(columns={ closest_datapoint.columns[0]: \"value\" })\n",
    "    return closest_datapoint\n"
   ]
  },
  {
   "cell_type": "code",
   "execution_count": null,
   "metadata": {},
   "outputs": [],
   "source": [
    "pv_cluster_1 = get_medoids(pv_closest[0], pv_each_day)\n",
    "pv_cluster_2 = get_medoids(pv_closest[1], pv_each_day)\n",
    "pv_cluster_3 = get_medoids(pv_closest[2], pv_each_day)\n",
    "pv_cluster_4 = get_medoids(pv_closest[3], pv_each_day)\n",
    "pv_medoids = pv_cluster_1.append(pv_cluster_2).append(pv_cluster_3).append(pv_cluster_4).reset_index()\n",
    "\n",
    "pv_medoids.head()\n"
   ]
  },
  {
   "cell_type": "code",
   "execution_count": null,
   "metadata": {},
   "outputs": [],
   "source": [
    "sns.lineplot(data=pv_medoids, hue='cluster', x='hour',y='value')"
   ]
  },
  {
   "cell_type": "markdown",
   "metadata": {},
   "source": [
    "## Wind "
   ]
  },
  {
   "cell_type": "markdown",
   "metadata": {},
   "source": [
    "Offshore"
   ]
  },
  {
   "cell_type": "code",
   "execution_count": null,
   "metadata": {},
   "outputs": [],
   "source": [
    "wind_date_hour = wind.copy()\n",
    "wind_date_hour = wind_date_hour.reset_index()\n",
    "wind_date_hour['date'] = wind_date_hour['datetime'].dt.date\n",
    "wind_date_hour['hour'] = wind_date_hour['datetime'].dt.hour\n",
    "wind_date_hour['year'] = wind_date_hour['datetime'].dt.year\n",
    "wind_date_hour.head()"
   ]
  },
  {
   "cell_type": "code",
   "execution_count": null,
   "metadata": {
    "scrolled": true
   },
   "outputs": [],
   "source": [
    "wind_offshore_each_day = wind_date_hour.pivot(index='date', columns='hour', values='offshore')\n",
    "wind_offshore_each_day = wind_offshore_each_day.dropna()\n",
    "wind_offshore_each_day.head()"
   ]
  },
  {
   "cell_type": "code",
   "execution_count": null,
   "metadata": {},
   "outputs": [],
   "source": [
    "# Visualise as PCA\n",
    "pca = PCA(n_components=3)\n",
    "\n",
    "pca_results_offshore = pca.fit_transform(wind_offshore_each_day)\n",
    "\n",
    "principal_df_offshore = pd.DataFrame(data = pca_results_offshore, columns = ['pc_1', 'pc_2','pc_3'])\n",
    "principal_df_offshore = principal_df_offshore.dropna()\n",
    "principal_df_offshore.plot()"
   ]
  },
  {
   "cell_type": "code",
   "execution_count": null,
   "metadata": {},
   "outputs": [],
   "source": [
    "plt.scatter(principal_df['pc_1'],principal_df['pc_2'])"
   ]
  },
  {
   "cell_type": "markdown",
   "metadata": {},
   "source": [
    "kmeans"
   ]
  },
  {
   "cell_type": "code",
   "execution_count": null,
   "metadata": {},
   "outputs": [],
   "source": [
    "kmeans_offshore = KMeans(n_clusters=4)\n",
    "kmeans_offshore.fit(wind_offshore_each_day)\n",
    "offshore_y_kmeans = kmeans_offshore.predict(wind_offshore_each_day)"
   ]
  },
  {
   "cell_type": "code",
   "execution_count": null,
   "metadata": {},
   "outputs": [],
   "source": [
    "plt.scatter(principal_df_offshore.pc_1, principal_df_offshore.pc_2, c=offshore_y_kmeans)\n",
    "plt.xlabel(\"Principal component 1\")\n",
    "plt.ylabel(\"Principal component 2\")\n",
    "plt.title(\"K-Means for each day Capacity factor for offshore in Great Britain \\n between 1980-2016 visualised using PCA\")\n",
    "plt.show()"
   ]
  },
  {
   "cell_type": "code",
   "execution_count": null,
   "metadata": {},
   "outputs": [],
   "source": [
    "plt.scatter(principal_df_offshore.pc_1, principal_df_offshore.pc_3, c=offshore_y_kmeans)\n",
    "plt.xlabel(\"Principal component 1\")\n",
    "plt.ylabel(\"Principal component 3\")\n",
    "plt.title(\"K-Means for each day Capacity factor for offshore in Great Britain \\n between 1980-2016 visualised using PCA\")\n",
    "plt.show()"
   ]
  },
  {
   "cell_type": "markdown",
   "metadata": {},
   "source": [
    "tsne"
   ]
  },
  {
   "cell_type": "code",
   "execution_count": null,
   "metadata": {},
   "outputs": [],
   "source": [
    "offshore_each_day_2d = tsne.fit_transform(wind_offshore_each_day)\n"
   ]
  },
  {
   "cell_type": "code",
   "execution_count": null,
   "metadata": {
    "scrolled": true
   },
   "outputs": [],
   "source": [
    "plt.scatter(offshore_each_day_2d[:,0], offshore_each_day_2d[:,1], c=offshore_y_kmeans)\n",
    "plt.xlabel(\"Principal component 1\")\n",
    "plt.ylabel(\"Principal component 2\")\n",
    "plt.title(\"K-Means for each day Capacity factor for offshore wind in Great Britain \\n between 1980-2016 visualised using t-SNE\")\n",
    "plt.show()"
   ]
  },
  {
   "cell_type": "code",
   "execution_count": null,
   "metadata": {},
   "outputs": [],
   "source": [
    "plt.scatter(offshore_each_day_2d[:,1], offshore_each_day_2d[:,2], c=offshore_y_kmeans)\n",
    "plt.xlabel(\"Principal component 2\")\n",
    "plt.ylabel(\"Principal component 3\")\n",
    "plt.title(\"K-Means for each day Capacity factor for offshore wind in Great Britain \\n between 1980-2016 visualised using t-SNE\")\n",
    "plt.show()"
   ]
  },
  {
   "cell_type": "code",
   "execution_count": null,
   "metadata": {},
   "outputs": [],
   "source": [
    "plt.scatter(offshore_each_day_2d[:,0], offshore_each_day_2d[:,2], c=offshore_y_kmeans)\n",
    "plt.xlabel(\"Principal component 1\")\n",
    "plt.ylabel(\"Principal component 3\")\n",
    "plt.title(\"K-Means for each day Capacity factor for offshore wind in Great Britain \\n between 1980-2016 visualised using t-SNE\")\n",
    "plt.show()"
   ]
  },
  {
   "cell_type": "code",
   "execution_count": null,
   "metadata": {},
   "outputs": [],
   "source": [
    "offshore_centres = kmeans_offshore.cluster_centers_\n",
    "offshore_centres_df = pd.DataFrame(offshore_centres)\n",
    "offshore_centres_df['cluster'] = offshore_centres_df.index\n",
    "offshore_centres_df.reset_index()\n",
    "offshore_centres_df.head()"
   ]
  },
  {
   "cell_type": "code",
   "execution_count": null,
   "metadata": {},
   "outputs": [],
   "source": [
    "offshore_centres_df_long = pd.melt(offshore_centres_df, id_vars=\"cluster\", value_vars=[0,         1,         2,         3,         4,         5,\n",
    "               6,         7,         8,         9,        10,        11,\n",
    "              12,        13,        14,        15,        16,        17,\n",
    "              18,        19,        20,        21,        22,        23,])\n",
    "offshore_centres_df_long.head()"
   ]
  },
  {
   "cell_type": "code",
   "execution_count": null,
   "metadata": {},
   "outputs": [],
   "source": [
    "sns.lineplot(data=offshore_centres_df_long, hue='cluster', y='value', x='variable')\n",
    "plt.xlabel(\"Hour of average day (h)\")\n",
    "plt.ylabel(\"Capacity Factor\")\n",
    "plt.title(\"Average capacity factor for an average day per cluster for offshore wind\")\n",
    "plt.show()"
   ]
  },
  {
   "cell_type": "markdown",
   "metadata": {},
   "source": [
    "Onshore"
   ]
  },
  {
   "cell_type": "code",
   "execution_count": null,
   "metadata": {},
   "outputs": [],
   "source": [
    "wind_onshore_each_day = wind_date_hour.pivot(index='date', columns='hour', values='onshore')\n",
    "wind_onshore_each_day = wind_onshore_each_day.dropna()\n",
    "wind_onshore_each_day.head()"
   ]
  },
  {
   "cell_type": "code",
   "execution_count": null,
   "metadata": {},
   "outputs": [],
   "source": [
    "# Visualise as PCA\n",
    "pca = PCA(n_components=3)\n",
    "\n",
    "pca_results_onshore = pca.fit_transform(wind_onshore_each_day)\n",
    "\n",
    "principal_df_onshore = pd.DataFrame(data = pca_results_onshore, columns = ['pc_1', 'pc_2','pc_3'])\n",
    "principal_df_onshore.plot()"
   ]
  },
  {
   "cell_type": "code",
   "execution_count": null,
   "metadata": {},
   "outputs": [],
   "source": [
    "plt.scatter(principal_df_onshore['pc_1'],principal_df_onshore['pc_2'])"
   ]
  },
  {
   "cell_type": "code",
   "execution_count": null,
   "metadata": {},
   "outputs": [],
   "source": [
    "kmeans_onshore = KMeans(n_clusters=4)\n",
    "kmeans_onshore.fit(wind_onshore_each_day)\n",
    "onshore_y_kmeans = kmeans_onshore.predict(wind_onshore_each_day)"
   ]
  },
  {
   "cell_type": "code",
   "execution_count": null,
   "metadata": {},
   "outputs": [],
   "source": [
    "plt.scatter(principal_df_onshore.pc_1, principal_df_onshore.pc_2, c=onshore_y_kmeans)\n",
    "plt.xlabel(\"Principal component 1\")\n",
    "plt.ylabel(\"Principal component 2\")\n",
    "plt.title(\"K-Means for each day Capacity factor for photovoltaics in Great Britain \\n between 1980-2016 visualised using PCA\")\n",
    "plt.show()\n",
    "plt.scatter(principal_df_onshore.pc_1, principal_df_onshore.pc_3, c=onshore_y_kmeans)\n",
    "plt.xlabel(\"Principal component 1\")\n",
    "plt.ylabel(\"Principal component 3\")\n",
    "plt.title(\"K-Means for each day Capacity factor for photovoltaics in Great Britain \\n between 1980-2016 visualised using PCA\")\n",
    "plt.show()"
   ]
  },
  {
   "cell_type": "code",
   "execution_count": null,
   "metadata": {},
   "outputs": [],
   "source": [
    "onshore_each_day_2d = tsne.fit_transform(wind_onshore_each_day)"
   ]
  },
  {
   "cell_type": "code",
   "execution_count": null,
   "metadata": {},
   "outputs": [],
   "source": [
    "plt.scatter(onshore_each_day_2d[:,0], onshore_each_day_2d[:,1], c=onshore_y_kmeans)\n",
    "plt.xlabel(\"Principal component 1\")\n",
    "plt.ylabel(\"Principal component 2\")\n",
    "plt.title(\"K-Means for each day Capacity factor for onshore wind in Great Britain \\n between 1980-2016 visualised using t-SNE\")\n",
    "plt.show()"
   ]
  },
  {
   "cell_type": "code",
   "execution_count": null,
   "metadata": {},
   "outputs": [],
   "source": [
    "plt.scatter(onshore_each_day_2d[:,0], onshore_each_day_2d[:,2], c=onshore_y_kmeans)\n",
    "plt.xlabel(\"Principal component 1\")\n",
    "plt.ylabel(\"Principal component 3\")\n",
    "plt.title(\"K-Means for each day Capacity factor for onshore wind in Great Britain \\n between 1980-2016 visualised using t-SNE\")\n",
    "plt.show()"
   ]
  },
  {
   "cell_type": "code",
   "execution_count": null,
   "metadata": {},
   "outputs": [],
   "source": [
    "plt.scatter(onshore_each_day_2d[:,1], onshore_each_day_2d[:,2], c=onshore_y_kmeans)\n",
    "plt.xlabel(\"Principal component 2\")\n",
    "plt.ylabel(\"Principal component 3\")\n",
    "plt.title(\"K-Means for each day Capacity factor for onshore wind in Great Britain \\n between 1980-2016 visualised using t-SNE\")\n",
    "plt.show()"
   ]
  },
  {
   "cell_type": "code",
   "execution_count": null,
   "metadata": {
    "scrolled": true
   },
   "outputs": [],
   "source": [
    "onshore_centres = kmeans_onshore.cluster_centers_\n",
    "onshore_centres_df = pd.DataFrame(onshore_centres)\n",
    "onshore_centres_df['cluster'] = onshore_centres_df.index\n",
    "onshore_centres_df.reset_index()\n",
    "onshore_centres_df.head()"
   ]
  },
  {
   "cell_type": "code",
   "execution_count": null,
   "metadata": {},
   "outputs": [],
   "source": [
    "onshore_centres_df_long = pd.melt(onshore_centres_df, id_vars=\"cluster\", value_vars=[0,         1,         2,         3,         4,         5,\n",
    "               6,         7,         8,         9,        10,        11,\n",
    "              12,        13,        14,        15,        16,        17,\n",
    "              18,        19,        20,        21,        22,        23,])\n",
    "onshore_centres_df_long.head()"
   ]
  },
  {
   "cell_type": "code",
   "execution_count": null,
   "metadata": {
    "scrolled": true
   },
   "outputs": [],
   "source": [
    "sns.lineplot(data=onshore_centres_df_long, hue='cluster', y='value', x='variable')\n",
    "plt.xlabel(\"Hour of average day (h)\")\n",
    "plt.ylabel(\"Capacity Factor\")\n",
    "plt.title(\"Average capacity factor for an average day per cluster for onshore wind\")\n",
    "plt.show()"
   ]
  },
  {
   "cell_type": "markdown",
   "metadata": {},
   "source": [
    "# Visualising uncertainty around means"
   ]
  },
  {
   "cell_type": "markdown",
   "metadata": {},
   "source": [
    "Uncertainty around average day in each season"
   ]
  },
  {
   "cell_type": "code",
   "execution_count": null,
   "metadata": {},
   "outputs": [],
   "source": [
    "sns.lineplot(data=pv_hour_day, x='hour',y='capacity_factor', hue='season')"
   ]
  },
  {
   "cell_type": "code",
   "execution_count": null,
   "metadata": {},
   "outputs": [],
   "source": [
    "sns.lineplot(data=wind_hour_day, x='hour', y='offshore', hue='season')"
   ]
  },
  {
   "cell_type": "code",
   "execution_count": null,
   "metadata": {},
   "outputs": [],
   "source": [
    "sns.lineplot(data=wind_hour_day, x='hour', y='onshore', hue='season')"
   ]
  },
  {
   "cell_type": "markdown",
   "metadata": {},
   "source": [
    "Uncertainty around average day for each cluster"
   ]
  },
  {
   "cell_type": "code",
   "execution_count": null,
   "metadata": {},
   "outputs": [],
   "source": [
    "pv_each_day.head()\n",
    "pv_y_kmeans_df = pd.DataFrame(pv_y_kmeans)\n",
    "pv_y_kmeans_df.head()\n",
    "pv_each_day['clusters']=pv_y_kmeans\n",
    "pv_each_day.head()\n",
    "pv_date_hour.head()\n",
    "pv_clusters_long = pv_date_hour.join(pv_each_day, on='date')"
   ]
  },
  {
   "cell_type": "code",
   "execution_count": null,
   "metadata": {},
   "outputs": [],
   "source": [
    "# Standard deviation of each hour by cluster for photovoltatic.\n",
    "pv_clusters_long.groupby('clusters').std()"
   ]
  },
  {
   "cell_type": "code",
   "execution_count": null,
   "metadata": {},
   "outputs": [],
   "source": [
    "sns.lineplot(data=pv_clusters_long, hue='clusters', y='capacity_factor', x='hour')"
   ]
  },
  {
   "cell_type": "code",
   "execution_count": null,
   "metadata": {},
   "outputs": [],
   "source": [
    "wind_offshore_each_day['clusters']=offshore_y_kmeans\n",
    "offshore_clusters_long = wind_date_hour.join(wind_offshore_each_day, on='date')\n",
    "offshore_clusters_long.head()"
   ]
  },
  {
   "cell_type": "code",
   "execution_count": null,
   "metadata": {},
   "outputs": [],
   "source": [
    "sns.lineplot(data=offshore_clusters_long, hue='clusters', y='offshore', x='hour')"
   ]
  },
  {
   "cell_type": "code",
   "execution_count": null,
   "metadata": {},
   "outputs": [],
   "source": [
    "wind_onshore_each_day['clusters']=onshore_y_kmeans\n",
    "onshore_clusters_long = wind_date_hour.join(wind_onshore_each_day, on='date')\n",
    "onshore_clusters_long.head()"
   ]
  },
  {
   "cell_type": "code",
   "execution_count": null,
   "metadata": {},
   "outputs": [],
   "source": [
    "sns.lineplot(data=onshore_clusters_long, x='hour', y='onshore', hue='clusters')"
   ]
  },
  {
   "cell_type": "markdown",
   "metadata": {},
   "source": [
    "Here we will fit an ARIMA model on an entire dataset to give us a distribution in which we can sample from"
   ]
  },
  {
   "cell_type": "code",
   "execution_count": null,
   "metadata": {
    "scrolled": true
   },
   "outputs": [],
   "source": [
    "# Auto correlation of photovoltaic capacity factor time series.\n",
    "# autocorrelation_plot(pv.capacity_factor)"
   ]
  },
  {
   "cell_type": "code",
   "execution_count": null,
   "metadata": {},
   "outputs": [],
   "source": [
    "# Auto correlation of 2 years of PV data\n",
    "pv_subset = pv[(pv.index>'2012') & (pv.index<'2016')]\n",
    "autocorrelation_plot(pv_subset.capacity_factor)"
   ]
  },
  {
   "cell_type": "code",
   "execution_count": null,
   "metadata": {},
   "outputs": [],
   "source": [
    "pv_subset_resample = pd.DataFrame(pv_subset.capacity_factor.resample(\"1H\").mean())\n",
    "autocorrelation_plot(pv_subset_resample.capacity_factor)"
   ]
  },
  {
   "cell_type": "code",
   "execution_count": null,
   "metadata": {},
   "outputs": [],
   "source": [
    "# model = sm.tsa.statespace.SARIMAX(pv_subset_resample.capacity_factor, order=(1,1,1), seasonal_order=(1,1,1,1752))\n",
    "# model_fit = model.fit(disp=0)"
   ]
  },
  {
   "cell_type": "code",
   "execution_count": null,
   "metadata": {},
   "outputs": [],
   "source": [
    "# print(model_fit.summary())"
   ]
  },
  {
   "cell_type": "code",
   "execution_count": null,
   "metadata": {},
   "outputs": [],
   "source": [
    "# residuals = DataFrame(model_fit.resid)\n",
    "# residuals.plot()\n",
    "# plt.show()"
   ]
  },
  {
   "cell_type": "code",
   "execution_count": null,
   "metadata": {},
   "outputs": [],
   "source": [
    "# residuals.plot(kind='kde')\n",
    "# pyplot.show()"
   ]
  },
  {
   "cell_type": "markdown",
   "metadata": {},
   "source": [
    "## Comparing Load Duration Curves "
   ]
  },
  {
   "cell_type": "markdown",
   "metadata": {},
   "source": [
    "## Photovoltaic"
   ]
  },
  {
   "cell_type": "markdown",
   "metadata": {},
   "source": [
    "Averages by season"
   ]
  },
  {
   "cell_type": "code",
   "execution_count": null,
   "metadata": {},
   "outputs": [],
   "source": [
    "bins = [0, 70, 163, 245, 358, 366]\n",
    "days_per_season = [x - bins[i - 1] for i, x in enumerate(bins)][1:]\n",
    "days_per_season[0] = days_per_season[0]+days_per_season[-1]\n",
    "del days_per_season[-1]\n",
    "labels=['Winter', 'Spring', 'Summer', 'Autumn']\n",
    "season_scaling = {'season':labels, 'days':days_per_season}\n",
    "season_scaling_df = pd.DataFrame(season_scaling)\n",
    "season_scaling_df.head()"
   ]
  },
  {
   "cell_type": "code",
   "execution_count": null,
   "metadata": {},
   "outputs": [],
   "source": [
    "average_day_scaled = average_day_df.merge(season_scaling_df, on='season')\n",
    "\n",
    "average_day_scaled = average_day_scaled.reindex(average_day_scaled.index.repeat(average_day_scaled.days))\n",
    "average_day_scaled.head()"
   ]
  },
  {
   "cell_type": "code",
   "execution_count": null,
   "metadata": {},
   "outputs": [],
   "source": [
    "pv_each_year = pv.copy()\n",
    "pv_each_year=pv.reset_index()\n",
    "pv_each_year['year'] = pv_each_year.datetime.dt.year\n",
    "pv_each_year = pv_each_year.groupby('year').apply(lambda x: x.sort_values('capacity_factor', ascending=False).reset_index().reset_index())"
   ]
  },
  {
   "cell_type": "markdown",
   "metadata": {},
   "source": [
    "Use of average of seasons "
   ]
  },
  {
   "cell_type": "code",
   "execution_count": null,
   "metadata": {},
   "outputs": [],
   "source": [
    "fig, ax = plt.subplots()\n",
    "sns.lineplot(data=pv_each_year, hue='year', x='level_0', y='capacity_factor', ax=ax)\n",
    "sns.lineplot(data=average_day_scaled_sorted, y='capacity_factor', x='level_0', ax=ax)\n",
    "plt.xlabel(\"Hours at capacity factor (h)\")\n",
    "plt.ylabel(\"Capacity Factor\")\n",
    "plt.title(\"Original load duration curve for each year for PV and average approximation\")\n",
    "plt.show()"
   ]
  },
  {
   "cell_type": "code",
   "execution_count": null,
   "metadata": {},
   "outputs": [],
   "source": [
    "pv_each_point_long_clusters = pv_each_day.copy()\n",
    "pv_each_point_long_clusters['year'] = pv_date_hour['year']\n",
    "\n",
    "pv_each_point_long_clusters = pv_each_point_long_clusters.reset_index()\n",
    "pv_each_point_long_clusters\n",
    "\n",
    "\n",
    "\n",
    "pv_each_point_long_clusters['cluster'] = pv_y_kmeans\n",
    "\n",
    "cluster_weights = pv_each_point_long_clusters.groupby('cluster').count()\n",
    "cluster_weights\n",
    "pv_each_point_long_clusters = pd.melt(pv_each_point_long_clusters, id_vars=[\"cluster\",'year'], value_vars=[0,         1,         2,         3,         4,         5,\n",
    "               6,         7,         8,         9,        10,        11,\n",
    "              12,        13,        14,        15,        16,        17,\n",
    "              18,        19,        20,        21,        22,        23,])\n",
    "\n",
    "cluster_weights"
   ]
  },
  {
   "cell_type": "code",
   "execution_count": null,
   "metadata": {},
   "outputs": [],
   "source": [
    "pv_centres_df_long.head()"
   ]
  },
  {
   "cell_type": "code",
   "execution_count": null,
   "metadata": {},
   "outputs": [],
   "source": [
    "pv_average_day_clustered_long = pv_centres_df_long.merge(cluster_weights, on='cluster')\n",
    "\n",
    "pv_average_day_clustered_long.head()"
   ]
  },
  {
   "cell_type": "code",
   "execution_count": null,
   "metadata": {},
   "outputs": [],
   "source": [
    "pv_average_day_clustered_long = pv_average_day_clustered_long[['cluster','value','year']]\n",
    "pv_average_day_clustered_long['year'] = pv_average_day_clustered_long['year']/37\n",
    "\n",
    "pv_cluster_average_long = pv_average_day_clustered_long.reindex(pv_average_day_clustered_long.index.repeat(pv_average_day_clustered_long.year))\n",
    "pv_cluster_average_long.head()"
   ]
  },
  {
   "cell_type": "markdown",
   "metadata": {},
   "source": [
    "Cluster centroids used as average day"
   ]
  },
  {
   "cell_type": "code",
   "execution_count": null,
   "metadata": {
    "scrolled": true
   },
   "outputs": [],
   "source": [
    "pv_cluster_average_long_sorted = pv_cluster_average_long.sort_values('value', ascending=False).reset_index().reset_index()\n",
    "\n",
    "fig, ax = plt.subplots()\n",
    "sns.lineplot(data=pv_each_year, hue='year', x='level_0', y='capacity_factor', ax=ax)\n",
    "sns.lineplot(data=pv_cluster_average_long_sorted, y='value', x='level_0')\n",
    "plt.xlabel(\"Hours at capacity factor (h)\")\n",
    "plt.ylabel(\"Capacity Factor\")\n",
    "plt.title(\"Original load duration curve for each year for PV and cluster centroids\")\n",
    "plt.show()\n"
   ]
  },
  {
   "cell_type": "code",
   "execution_count": null,
   "metadata": {},
   "outputs": [],
   "source": [
    "pv_closest, _ = pairwise_distances_argmin_min(kmeans_4.cluster_centers_, pv_each_day.loc[:, pv_each_day.columns != 'clusters'])\n",
    "print(pv_closest[0])\n",
    "print(pv_closest[1])\n",
    "print(pv_closest[2])\n",
    "print(pv_closest[3])\n"
   ]
  },
  {
   "cell_type": "code",
   "execution_count": null,
   "metadata": {},
   "outputs": [],
   "source": [
    "def get_medoids(index, data):\n",
    "    closest_datapoint = pd.DataFrame(data.iloc[index,:])\n",
    "    closest_datapoint['cluster']=closest_datapoint.iloc[24,0]\n",
    "    closest_datapoint=closest_datapoint.drop('clusters', axis=0)\n",
    "    closest_datapoint = closest_datapoint.rename(columns={ closest_datapoint.columns[0]: \"value\" })\n",
    "    return closest_datapoint\n"
   ]
  },
  {
   "cell_type": "code",
   "execution_count": null,
   "metadata": {},
   "outputs": [],
   "source": [
    "pv_cluster_1 = get_medoids(pv_closest[0], pv_each_day)\n",
    "pv_cluster_2 = get_medoids(pv_closest[1], pv_each_day)\n",
    "pv_cluster_3 = get_medoids(pv_closest[2], pv_each_day)\n",
    "pv_cluster_4 = get_medoids(pv_closest[3], pv_each_day)\n",
    "pv_medoids = pv_cluster_1.append(pv_cluster_2).append(pv_cluster_3).append(pv_cluster_4).reset_index()\n",
    "\n",
    "pv_medoids.head()\n"
   ]
  },
  {
   "cell_type": "code",
   "execution_count": null,
   "metadata": {},
   "outputs": [],
   "source": [
    "sns.lineplot(data=pv_medoids, hue='cluster', x='hour',y='value')"
   ]
  },
  {
   "cell_type": "code",
   "execution_count": null,
   "metadata": {},
   "outputs": [],
   "source": [
    "pv_medoids_ldc = pv_medoids.merge(cluster_weights, on='cluster')[['cluster','value','year']]\n",
    "pv_medoids_ldc['year'] = pv_medoids_ldc['year']/37\n",
    "pv_cluster_medoids_long = pv_medoids_ldc.reindex(pv_medoids_ldc.index.repeat(pv_medoids_ldc.year))\n",
    "\n",
    "pv_cluster_medoids_long.head()"
   ]
  },
  {
   "cell_type": "code",
   "execution_count": null,
   "metadata": {},
   "outputs": [],
   "source": [
    "pv_cluster_medoids_long_sorted = pv_cluster_medoids_long.sort_values('value', ascending=False).reset_index().reset_index()\n",
    "\n",
    "fig, ax = plt.subplots()\n",
    "sns.lineplot(data=pv_each_year, hue='year', x='level_0', y='capacity_factor', ax=ax)\n",
    "sns.lineplot(data=pv_cluster_medoids_long_sorted, y='value', x='level_0')\n",
    "plt.xlabel(\"Hours at capacity factor (h)\")\n",
    "plt.ylabel(\"Capacity Factor\")\n",
    "plt.title(\"Original load duration curve for each year for PV and cluster medoids\")\n",
    "plt.show()\n"
   ]
  },
  {
   "cell_type": "markdown",
   "metadata": {},
   "source": [
    "## Offshore"
   ]
  },
  {
   "cell_type": "code",
   "execution_count": null,
   "metadata": {},
   "outputs": [],
   "source": [
    "def season_to_ldc(average_day_df, fuel_type):\n",
    "    \n",
    "    bins = [0, 70, 163, 245, 358, 366]\n",
    "    days_per_season = [x - bins[i - 1] for i, x in enumerate(bins)][1:]\n",
    "    days_per_season[0] = days_per_season[0]+days_per_season[-1]\n",
    "    del days_per_season[-1]\n",
    "    labels=['Winter', 'Spring', 'Summer', 'Autumn']\n",
    "    season_scaling = {'season':labels, 'days':days_per_season}\n",
    "    season_scaling_df = pd.DataFrame(season_scaling)\n",
    "    season_scaling_df.head()\n",
    "\n",
    "\n",
    "    average_day_scaled = average_day_df.merge(season_scaling_df, on='season')\n",
    "\n",
    "    average_day_scaled = average_day_scaled.reindex(average_day_scaled.index.repeat(average_day_scaled.days))\n",
    "    \n",
    "    average_day_scaled = average_day_scaled.sort_values(fuel_type, ascending=False).reset_index().reset_index()\n",
    "    return average_day_scaled\n",
    "    \n",
    "onshore_average_day_season = season_to_ldc(wind_average_day_df, 'onshore')\n",
    "onshore_average_day_season.head()"
   ]
  },
  {
   "cell_type": "code",
   "execution_count": null,
   "metadata": {},
   "outputs": [],
   "source": [
    "offshore_each_year = wind.copy()\n",
    "offshore_each_year=wind.reset_index()\n",
    "offshore_each_year['year'] = offshore_each_year.datetime.dt.year\n",
    "offshore_each_year = offshore_each_year.groupby('year').apply(lambda x: x.sort_values('onshore', ascending=False).reset_index().reset_index())\n",
    "\n",
    "\n",
    "fig, ax = plt.subplots()\n",
    "sns.lineplot(data=offshore_each_year, hue='year', x='level_0', y='onshore', ax=ax)\n",
    "sns.lineplot(data=onshore_average_day_season, y='onshore', x='level_0', ax=ax)\n",
    "plt.xlabel(\"Hours at capacity factor (h)\")\n",
    "plt.ylabel(\"Capacity Factor\")\n",
    "plt.title(\"Original load duration curve for each year for onshore and average approximation\")\n",
    "plt.show()"
   ]
  },
  {
   "cell_type": "markdown",
   "metadata": {},
   "source": [
    "Cluster centroids"
   ]
  },
  {
   "cell_type": "code",
   "execution_count": null,
   "metadata": {},
   "outputs": [],
   "source": [
    "wind_each_point_long_clusters = wind_onshore_each_day.copy()\n",
    "wind_each_point_long_clusters = wind_each_point_long_clusters.reset_index()\n",
    "wind_each_point_long_clusters['year'] = wind_date_hour.reset_index()['year']\n",
    "\n",
    "wind_each_point_long_clusters.head()\n",
    "\n",
    "\n",
    "\n",
    "\n",
    "wind_each_point_long_clusters['cluster'] = onshore_y_kmeans\n",
    "\n",
    "wind_each_point_long_clusters\n",
    "\n",
    "cluster_weights = wind_each_point_long_clusters.groupby('clusters').count()\n",
    "cluster_weights = cluster_weights.drop('cluster', axis=1)\n",
    "\n",
    "wind_each_point_long_clusters = pd.melt(wind_each_point_long_clusters, id_vars=[\"cluster\",'year'], value_vars=[0,         1,         2,         3,         4,         5,\n",
    "               6,         7,         8,         9,        10,        11,\n",
    "              12,        13,        14,        15,        16,        17,\n",
    "              18,        19,        20,        21,        22,        23,])\n",
    "\n",
    "cluster_weights = cluster_weights.reset_index()\n",
    "cluster_weights = cluster_weights.rename({'clusters':'cluster'}, axis=1)\n",
    "wind_each_point_long_clusters\n",
    "cluster_weights\n",
    "\n",
    "offshore_centres_df_long\n",
    "\n",
    "joined_wind_long_clusters = pd.merge(cluster_weights, offshore_centres_df_long, on='cluster')\n",
    "joined_wind_long_clusters.head()\n",
    "joined_wind_long_clusters = joined_wind_long_clusters[['cluster','value','year']]\n",
    "joined_wind_long_clusters['year'] = joined_wind_long_clusters['year']/37\n",
    "\n",
    "joined_wind_long_clusters.shape\n",
    "\n",
    "joined_wind_long_clusters = joined_wind_long_clusters.reindex(joined_wind_long_clusters.index.repeat(joined_wind_long_clusters.year))\n",
    "\n",
    "joined_wind_long_clusters = joined_wind_long_clusters.sort_values('value', ascending=False).reset_index().reset_index()\n",
    "\n"
   ]
  },
  {
   "cell_type": "code",
   "execution_count": null,
   "metadata": {},
   "outputs": [],
   "source": [
    "\n",
    "fig, ax = plt.subplots()\n",
    "sns.lineplot(data=offshore_each_year, hue='year', x='level_0', y='onshore', ax=ax)\n",
    "sns.lineplot(data=joined_wind_long_clusters, y='value', x='level_0')\n",
    "plt.xlabel(\"Hours at capacity factor (h)\")\n",
    "plt.ylabel(\"Capacity Factor\")\n",
    "plt.title(\"Original load duration curve for each year for onshore and cluster centroids\")\n",
    "plt.show()"
   ]
  }
 ],
 "metadata": {
  "kernelspec": {
   "display_name": "Python 3",
   "language": "python",
   "name": "python3"
  },
  "language_info": {
   "codemirror_mode": {
    "name": "ipython",
    "version": 3
   },
   "file_extension": ".py",
   "mimetype": "text/x-python",
   "name": "python",
   "nbconvert_exporter": "python",
   "pygments_lexer": "ipython3",
   "version": "3.6.6"
  }
 },
 "nbformat": 4,
 "nbformat_minor": 2
}

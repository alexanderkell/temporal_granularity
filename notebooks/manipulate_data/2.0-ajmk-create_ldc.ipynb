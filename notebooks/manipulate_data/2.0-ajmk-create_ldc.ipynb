{
 "cells": [
  {
   "cell_type": "code",
   "execution_count": 1,
   "metadata": {},
   "outputs": [
    {
     "data": {
      "text/plain": [
       "PosixPath('/Users/b1017579/Documents/PhD/Projects/14-temporal-granularity/temporal_granularity')"
      ]
     },
     "execution_count": 1,
     "metadata": {},
     "output_type": "execute_result"
    }
   ],
   "source": [
    "import pandas as pd\n",
    "import seaborn as sns\n",
    "import matplotlib.pyplot as plt\n",
    "from pathlib import Path\n",
    "import numpy as np\n",
    "from sklearn.preprocessing import MinMaxScaler\n",
    "project_dir = Path(\"__file__\").resolve().parents[2]\n",
    "project_dir"
   ]
  },
  {
   "cell_type": "code",
   "execution_count": 19,
   "metadata": {},
   "outputs": [
    {
     "data": {
      "text/html": [
       "<div>\n",
       "<style scoped>\n",
       "    .dataframe tbody tr th:only-of-type {\n",
       "        vertical-align: middle;\n",
       "    }\n",
       "\n",
       "    .dataframe tbody tr th {\n",
       "        vertical-align: top;\n",
       "    }\n",
       "\n",
       "    .dataframe thead th {\n",
       "        text-align: right;\n",
       "    }\n",
       "</style>\n",
       "<table border=\"1\" class=\"dataframe\">\n",
       "  <thead>\n",
       "    <tr style=\"text-align: right;\">\n",
       "      <th></th>\n",
       "      <th>Unnamed: 0</th>\n",
       "      <th>datetime</th>\n",
       "      <th>capacity_factor</th>\n",
       "    </tr>\n",
       "  </thead>\n",
       "  <tbody>\n",
       "    <tr>\n",
       "      <th>49089</th>\n",
       "      <td>49089</td>\n",
       "      <td>2017-01-01 00:00:00</td>\n",
       "      <td>28344.166667</td>\n",
       "    </tr>\n",
       "    <tr>\n",
       "      <th>49090</th>\n",
       "      <td>49090</td>\n",
       "      <td>2017-01-01 01:00:00</td>\n",
       "      <td>28367.916667</td>\n",
       "    </tr>\n",
       "    <tr>\n",
       "      <th>49091</th>\n",
       "      <td>49091</td>\n",
       "      <td>2017-01-01 02:00:00</td>\n",
       "      <td>27524.500000</td>\n",
       "    </tr>\n",
       "    <tr>\n",
       "      <th>49092</th>\n",
       "      <td>49092</td>\n",
       "      <td>2017-01-01 03:00:00</td>\n",
       "      <td>26112.250000</td>\n",
       "    </tr>\n",
       "    <tr>\n",
       "      <th>49093</th>\n",
       "      <td>49093</td>\n",
       "      <td>2017-01-01 04:00:00</td>\n",
       "      <td>25143.500000</td>\n",
       "    </tr>\n",
       "  </tbody>\n",
       "</table>\n",
       "</div>"
      ],
      "text/plain": [
       "       Unnamed: 0             datetime  capacity_factor\n",
       "49089       49089  2017-01-01 00:00:00     28344.166667\n",
       "49090       49090  2017-01-01 01:00:00     28367.916667\n",
       "49091       49091  2017-01-01 02:00:00     27524.500000\n",
       "49092       49092  2017-01-01 03:00:00     26112.250000\n",
       "49093       49093  2017-01-01 04:00:00     25143.500000"
      ]
     },
     "execution_count": 19,
     "metadata": {},
     "output_type": "execute_result"
    }
   ],
   "source": [
    "load = pd.read_csv('{}/data/processed/demand/load_processed.csv'.format(project_dir))\n",
    "load = load[(load.datetime> \"2016\") & (load.datetime> \"2017\")]\n",
    "load.head()"
   ]
  },
  {
   "cell_type": "code",
   "execution_count": 23,
   "metadata": {},
   "outputs": [
    {
     "data": {
      "text/plain": [
       "[20384.042,\n",
       " 22031.333,\n",
       " 23678.625,\n",
       " 25325.917,\n",
       " 26973.208,\n",
       " 28620.5,\n",
       " 30267.792,\n",
       " 31915.083,\n",
       " 33562.375,\n",
       " 35209.667,\n",
       " 36856.958,\n",
       " 38504.25,\n",
       " 40151.542,\n",
       " 41798.833,\n",
       " 43446.125,\n",
       " 45093.417,\n",
       " 46740.708,\n",
       " 48388.0,\n",
       " 50035.292,\n",
       " 51682.583]"
      ]
     },
     "execution_count": 23,
     "metadata": {},
     "output_type": "execute_result"
    }
   ],
   "source": [
    "load.sort_values(\"capacity_factor\", inplace=True)\n",
    "(pd.DataFrame(pd.cut(load.capacity_factor, 20).apply(lambda x: x.right)).groupby(\"capacity_factor\").first()).index.tolist()"
   ]
  }
 ],
 "metadata": {
  "kernelspec": {
   "display_name": "12._Reinforcement_Learning-DLBnGMow",
   "language": "python",
   "name": "12._reinforcement_learning-dlbngmow"
  },
  "language_info": {
   "codemirror_mode": {
    "name": "ipython",
    "version": 3
   },
   "file_extension": ".py",
   "mimetype": "text/x-python",
   "name": "python",
   "nbconvert_exporter": "python",
   "pygments_lexer": "ipython3",
   "version": "3.6.6"
  }
 },
 "nbformat": 4,
 "nbformat_minor": 2
}

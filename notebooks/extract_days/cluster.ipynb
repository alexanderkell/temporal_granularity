{
 "cells": [
  {
   "cell_type": "code",
   "execution_count": 16,
   "metadata": {},
   "outputs": [],
   "source": [
    "from pathlib import Path\n",
    "import sys\n",
    "project_dir = Path(\"__file__\").resolve().parents[2]\n",
    "sys.path.insert(0, '{}/temporal_granularity/'.format(project_dir))\n",
    "\n",
    "import logging\n",
    "\n",
    "import pandas as pd\n",
    "import seaborn as sns\n",
    "import matplotlib.pyplot as plt\n",
    "\n",
    "from sklearn.metrics import pairwise_distances_argmin_min\n",
    "\n",
    "from sklearn.cluster import KMeans\n"
   ]
  },
  {
   "cell_type": "code",
   "execution_count": 11,
   "metadata": {},
   "outputs": [],
   "source": [
    "pv_original = pd.read_csv(\n",
    "        '{}/data/processed/resources/pv_processed.csv'.format(project_dir))\n",
    "onshore_original = pd.read_csv(\n",
    "        '{}/data/processed/resources/onshore_processed.csv'.format(project_dir))\n",
    "offshore_original = pd.read_csv(\n",
    "        '{}/data/processed/resources/offshore_processed.csv'.format(project_dir))\n",
    "load_original = pd.read_csv(\n",
    "        '{}/data/processed/demand/load_NG/load_processed_normalised.csv'.format(project_dir))\n",
    "\n",
    "total_data = [pv_original, onshore_original, offshore_original, load_original]"
   ]
  },
  {
   "cell_type": "code",
   "execution_count": 15,
   "metadata": {},
   "outputs": [],
   "source": [
    "for data in total_data:\n",
    "    \n",
    "    data = data.drop('Unnamed: 0', axis=1)\n",
    "\n",
    "    data.set_index('datetime', inplace=True)\n",
    "    data.index = pd.to_datetime(data.index)\n",
    "\n",
    "    data['date'] = data.index.date\n",
    "    data['hour'] = data.index.hour\n",
    "    data['year'] = data.index.year\n",
    "    \n",
    "    data = data.pivot(\n",
    "            index='date', columns='hour', values='capacity_factor')\n",
    "    data = data.dropna()\n",
    "    \n",
    "    k_means = KMeans(n_clusters=8)\n",
    "    k_means.fit(data)\n",
    "    \n",
    "    y_kmeans = k_means.predict(data)\n",
    "    \n",
    "    y_kmeans_df = pd.DataFrame(y_kmeans)\n",
    "    y_kmeans_df = y_kmeans_df.rename(columns={y_kmeans_df.columns[0]: 'cluster'})\n",
    "    \n",
    "    data_w_kmeans = data.copy()\n",
    "    data_w_kmeans['cluster'] = y_kmeans\n",
    "\n",
    "    closest_data_points, _ = pairwise_distances_argmin_min(k_means.cluster_centers_, each_day)\n",
    "    \n",
    "    \n",
    "    "
   ]
  }
 ],
 "metadata": {
  "kernelspec": {
   "display_name": "Python 3",
   "language": "python",
   "name": "python3"
  },
  "language_info": {
   "codemirror_mode": {
    "name": "ipython",
    "version": 3
   },
   "file_extension": ".py",
   "mimetype": "text/x-python",
   "name": "python",
   "nbconvert_exporter": "python",
   "pygments_lexer": "ipython3",
   "version": "3.6.6"
  }
 },
 "nbformat": 4,
 "nbformat_minor": 2
}

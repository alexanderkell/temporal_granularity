{
 "cells": [
  {
   "cell_type": "code",
   "execution_count": 4,
   "metadata": {},
   "outputs": [],
   "source": [
    "from pathlib import Path\n",
    "import sys\n",
    "project_dir = Path(\"__file__\").resolve().parents[2]\n",
    "sys.path.insert(0, '{}/temporal_granularity/'.format(project_dir))\n",
    "\n",
    "import logging\n",
    "\n",
    "import pandas as pd\n",
    "import seaborn as sns\n",
    "import matplotlib.pyplot as plt\n",
    "\n",
    "from sklearn.cluster import KMeans\n"
   ]
  },
  {
   "cell_type": "code",
   "execution_count": 11,
   "metadata": {},
   "outputs": [],
   "source": [
    "pv_original = pd.read_csv(\n",
    "        '{}/data/processed/resources/pv_processed.csv'.format(project_dir))\n",
    "onshore_original = pd.read_csv(\n",
    "        '{}/data/processed/resources/onshore_processed.csv'.format(project_dir))\n",
    "offshore_original = pd.read_csv(\n",
    "        '{}/data/processed/resources/offshore_processed.csv'.format(project_dir))\n",
    "load_original = pd.read_csv(\n",
    "        '{}/data/processed/demand/load_NG/load_processed_normalised.csv'.format(project_dir))\n",
    "\n",
    "total_data = [pv_original, onshore_original, offshore_original, load_original]"
   ]
  },
  {
   "cell_type": "code",
   "execution_count": 13,
   "metadata": {},
   "outputs": [
    {
     "ename": "NameError",
     "evalue": "name 'self' is not defined",
     "output_type": "error",
     "traceback": [
      "\u001b[0;31m---------------------------------------------------------------------------\u001b[0m",
      "\u001b[0;31mNameError\u001b[0m                                 Traceback (most recent call last)",
      "\u001b[0;32m<ipython-input-13-26e5ad5dc8f9>\u001b[0m in \u001b[0;36m<module>\u001b[0;34m\u001b[0m\n\u001b[1;32m     14\u001b[0m     \u001b[0mdata\u001b[0m \u001b[0;34m=\u001b[0m \u001b[0mdata\u001b[0m\u001b[0;34m.\u001b[0m\u001b[0mdropna\u001b[0m\u001b[0;34m(\u001b[0m\u001b[0;34m)\u001b[0m\u001b[0;34m\u001b[0m\u001b[0m\n\u001b[1;32m     15\u001b[0m \u001b[0;34m\u001b[0m\u001b[0m\n\u001b[0;32m---> 16\u001b[0;31m     \u001b[0meach_day\u001b[0m \u001b[0;34m=\u001b[0m \u001b[0mself\u001b[0m\u001b[0;34m.\u001b[0m\u001b[0m_long_to_wide_data\u001b[0m\u001b[0;34m(\u001b[0m\u001b[0;34m)\u001b[0m\u001b[0;34m\u001b[0m\u001b[0m\n\u001b[0m\u001b[1;32m     17\u001b[0m     \u001b[0mk_means\u001b[0m \u001b[0;34m=\u001b[0m \u001b[0mself\u001b[0m\u001b[0;34m.\u001b[0m\u001b[0m_get_kmeans\u001b[0m\u001b[0;34m(\u001b[0m\u001b[0meach_day\u001b[0m\u001b[0;34m)\u001b[0m\u001b[0;34m\u001b[0m\u001b[0m\n\u001b[1;32m     18\u001b[0m     \u001b[0my_kmeans\u001b[0m \u001b[0;34m=\u001b[0m \u001b[0mk_means\u001b[0m\u001b[0;34m.\u001b[0m\u001b[0mpredict\u001b[0m\u001b[0;34m(\u001b[0m\u001b[0meach_day\u001b[0m\u001b[0;34m)\u001b[0m\u001b[0;34m\u001b[0m\u001b[0m\n",
      "\u001b[0;31mNameError\u001b[0m: name 'self' is not defined"
     ]
    }
   ],
   "source": [
    "for data in total_data:\n",
    "    \n",
    "    data = data.drop('Unnamed: 0', axis=1)\n",
    "\n",
    "    data.set_index('datetime', inplace=True)\n",
    "    data.index = pd.to_datetime(data.index)\n",
    "\n",
    "    data['date'] = data.index.date\n",
    "    data['hour'] = data.index.hour\n",
    "    data['year'] = data.index.year\n",
    "    \n",
    "    data = data.pivot(\n",
    "            index='date', columns='hour', values='capacity_factor')\n",
    "    data = data.dropna()\n",
    "    \n",
    "    kmeans = KMeans(n_clusters=8)\n",
    "    kmeans.fit(each_day)\n",
    "    \n",
    "    "
   ]
  }
 ],
 "metadata": {
  "kernelspec": {
   "display_name": "Python 3",
   "language": "python",
   "name": "python3"
  },
  "language_info": {
   "codemirror_mode": {
    "name": "ipython",
    "version": 3
   },
   "file_extension": ".py",
   "mimetype": "text/x-python",
   "name": "python",
   "nbconvert_exporter": "python",
   "pygments_lexer": "ipython3",
   "version": "3.6.6"
  }
 },
 "nbformat": 4,
 "nbformat_minor": 2
}

{
 "cells": [
  {
   "cell_type": "code",
   "execution_count": 3,
   "metadata": {},
   "outputs": [],
   "source": [
    "import pandas as pd\n",
    "import seaborn as sns\n",
    "import matplotlib.pyplot as plt\n",
    "from pathlib import Path"
   ]
  },
  {
   "cell_type": "code",
   "execution_count": 4,
   "metadata": {},
   "outputs": [
    {
     "data": {
      "text/plain": [
       "PosixPath('/Users/b1017579/Documents/PhD/Projects/14-temporal-granularity/temporal_granularity')"
      ]
     },
     "execution_count": 4,
     "metadata": {},
     "output_type": "execute_result"
    }
   ],
   "source": [
    "project_dir = Path(\"__file__\").resolve().parents[2]\n",
    "project_dir"
   ]
  },
  {
   "cell_type": "code",
   "execution_count": 5,
   "metadata": {},
   "outputs": [
    {
     "data": {
      "text/html": [
       "<div>\n",
       "<style scoped>\n",
       "    .dataframe tbody tr th:only-of-type {\n",
       "        vertical-align: middle;\n",
       "    }\n",
       "\n",
       "    .dataframe tbody tr th {\n",
       "        vertical-align: top;\n",
       "    }\n",
       "\n",
       "    .dataframe thead th {\n",
       "        text-align: right;\n",
       "    }\n",
       "</style>\n",
       "<table border=\"1\" class=\"dataframe\">\n",
       "  <thead>\n",
       "    <tr style=\"text-align: right;\">\n",
       "      <th></th>\n",
       "      <th>Unnamed: 0</th>\n",
       "      <th>datetime</th>\n",
       "      <th>capacity_factor</th>\n",
       "    </tr>\n",
       "  </thead>\n",
       "  <tbody>\n",
       "    <tr>\n",
       "      <th>0</th>\n",
       "      <td>0</td>\n",
       "      <td>1980-01-01 00:00:00</td>\n",
       "      <td>0.0</td>\n",
       "    </tr>\n",
       "    <tr>\n",
       "      <th>1</th>\n",
       "      <td>1</td>\n",
       "      <td>1980-01-01 01:00:00</td>\n",
       "      <td>0.0</td>\n",
       "    </tr>\n",
       "    <tr>\n",
       "      <th>2</th>\n",
       "      <td>2</td>\n",
       "      <td>1980-01-01 02:00:00</td>\n",
       "      <td>0.0</td>\n",
       "    </tr>\n",
       "    <tr>\n",
       "      <th>3</th>\n",
       "      <td>3</td>\n",
       "      <td>1980-01-01 03:00:00</td>\n",
       "      <td>0.0</td>\n",
       "    </tr>\n",
       "    <tr>\n",
       "      <th>4</th>\n",
       "      <td>4</td>\n",
       "      <td>1980-01-01 04:00:00</td>\n",
       "      <td>0.0</td>\n",
       "    </tr>\n",
       "  </tbody>\n",
       "</table>\n",
       "</div>"
      ],
      "text/plain": [
       "   Unnamed: 0            datetime  capacity_factor\n",
       "0           0 1980-01-01 00:00:00              0.0\n",
       "1           1 1980-01-01 01:00:00              0.0\n",
       "2           2 1980-01-01 02:00:00              0.0\n",
       "3           3 1980-01-01 03:00:00              0.0\n",
       "4           4 1980-01-01 04:00:00              0.0"
      ]
     },
     "execution_count": 5,
     "metadata": {},
     "output_type": "execute_result"
    }
   ],
   "source": [
    "pv = pd.read_csv('{}/data/processed/resources/pv_processed.csv'.format(project_dir))\n",
    "pv.datetime=pd.to_datetime(pv.datetime)\n",
    "pv.head()"
   ]
  },
  {
   "cell_type": "code",
   "execution_count": 6,
   "metadata": {},
   "outputs": [
    {
     "data": {
      "text/html": [
       "<div>\n",
       "<style scoped>\n",
       "    .dataframe tbody tr th:only-of-type {\n",
       "        vertical-align: middle;\n",
       "    }\n",
       "\n",
       "    .dataframe tbody tr th {\n",
       "        vertical-align: top;\n",
       "    }\n",
       "\n",
       "    .dataframe thead th {\n",
       "        text-align: right;\n",
       "    }\n",
       "</style>\n",
       "<table border=\"1\" class=\"dataframe\">\n",
       "  <thead>\n",
       "    <tr style=\"text-align: right;\">\n",
       "      <th></th>\n",
       "      <th>Unnamed: 0</th>\n",
       "      <th>datetime</th>\n",
       "      <th>offshore</th>\n",
       "      <th>onshore</th>\n",
       "    </tr>\n",
       "  </thead>\n",
       "  <tbody>\n",
       "    <tr>\n",
       "      <th>0</th>\n",
       "      <td>0</td>\n",
       "      <td>1980-01-01 00:00:00</td>\n",
       "      <td>0.2858</td>\n",
       "      <td>0.1496</td>\n",
       "    </tr>\n",
       "    <tr>\n",
       "      <th>1</th>\n",
       "      <td>1</td>\n",
       "      <td>1980-01-01 01:00:00</td>\n",
       "      <td>0.2827</td>\n",
       "      <td>0.1502</td>\n",
       "    </tr>\n",
       "    <tr>\n",
       "      <th>2</th>\n",
       "      <td>2</td>\n",
       "      <td>1980-01-01 02:00:00</td>\n",
       "      <td>0.2852</td>\n",
       "      <td>0.1485</td>\n",
       "    </tr>\n",
       "    <tr>\n",
       "      <th>3</th>\n",
       "      <td>3</td>\n",
       "      <td>1980-01-01 03:00:00</td>\n",
       "      <td>0.2920</td>\n",
       "      <td>0.1470</td>\n",
       "    </tr>\n",
       "    <tr>\n",
       "      <th>4</th>\n",
       "      <td>4</td>\n",
       "      <td>1980-01-01 04:00:00</td>\n",
       "      <td>0.3039</td>\n",
       "      <td>0.1489</td>\n",
       "    </tr>\n",
       "  </tbody>\n",
       "</table>\n",
       "</div>"
      ],
      "text/plain": [
       "   Unnamed: 0            datetime  offshore  onshore\n",
       "0           0 1980-01-01 00:00:00    0.2858   0.1496\n",
       "1           1 1980-01-01 01:00:00    0.2827   0.1502\n",
       "2           2 1980-01-01 02:00:00    0.2852   0.1485\n",
       "3           3 1980-01-01 03:00:00    0.2920   0.1470\n",
       "4           4 1980-01-01 04:00:00    0.3039   0.1489"
      ]
     },
     "execution_count": 6,
     "metadata": {},
     "output_type": "execute_result"
    }
   ],
   "source": [
    "wind = pd.read_csv('{}/data/processed/resources/wind_processed.csv'.format(project_dir))\n",
    "wind = wind.rename(columns={\"time\":\"datetime\"})\n",
    "wind.datetime=pd.to_datetime(wind.datetime)\n",
    "wind.head()"
   ]
  },
  {
   "cell_type": "code",
   "execution_count": 7,
   "metadata": {},
   "outputs": [
    {
     "data": {
      "text/html": [
       "<div>\n",
       "<style scoped>\n",
       "    .dataframe tbody tr th:only-of-type {\n",
       "        vertical-align: middle;\n",
       "    }\n",
       "\n",
       "    .dataframe tbody tr th {\n",
       "        vertical-align: top;\n",
       "    }\n",
       "\n",
       "    .dataframe thead th {\n",
       "        text-align: right;\n",
       "    }\n",
       "</style>\n",
       "<table border=\"1\" class=\"dataframe\">\n",
       "  <thead>\n",
       "    <tr style=\"text-align: right;\">\n",
       "      <th></th>\n",
       "      <th>datetime</th>\n",
       "      <th>demand</th>\n",
       "    </tr>\n",
       "  </thead>\n",
       "  <tbody>\n",
       "    <tr>\n",
       "      <th>0</th>\n",
       "      <td>2011-05-27 15:00:00</td>\n",
       "      <td>38859.500000</td>\n",
       "    </tr>\n",
       "    <tr>\n",
       "      <th>1</th>\n",
       "      <td>2011-05-27 16:00:00</td>\n",
       "      <td>38657.083333</td>\n",
       "    </tr>\n",
       "    <tr>\n",
       "      <th>2</th>\n",
       "      <td>2011-05-27 17:00:00</td>\n",
       "      <td>37497.583333</td>\n",
       "    </tr>\n",
       "    <tr>\n",
       "      <th>3</th>\n",
       "      <td>2011-05-27 18:00:00</td>\n",
       "      <td>36146.333333</td>\n",
       "    </tr>\n",
       "    <tr>\n",
       "      <th>4</th>\n",
       "      <td>2011-05-27 19:00:00</td>\n",
       "      <td>34741.166667</td>\n",
       "    </tr>\n",
       "  </tbody>\n",
       "</table>\n",
       "</div>"
      ],
      "text/plain": [
       "             datetime        demand\n",
       "0 2011-05-27 15:00:00  38859.500000\n",
       "1 2011-05-27 16:00:00  38657.083333\n",
       "2 2011-05-27 17:00:00  37497.583333\n",
       "3 2011-05-27 18:00:00  36146.333333\n",
       "4 2011-05-27 19:00:00  34741.166667"
      ]
     },
     "execution_count": 7,
     "metadata": {},
     "output_type": "execute_result"
    }
   ],
   "source": [
    "demand = pd.read_csv('{}/data/processed/demand/electricity_demand.csv'.format(project_dir))\n",
    "demand['datetime']=pd.to_datetime(demand[' timestamp'])\n",
    "demand = demand.drop(['id', ' timestamp'], axis=1)\n",
    "demand = demand.set_index('datetime').resample('h').mean()\n",
    "demand = demand.reset_index()\n",
    "demand.head()"
   ]
  },
  {
   "cell_type": "markdown",
   "metadata": {},
   "source": [
    "## Wind Dynamic Aspects"
   ]
  },
  {
   "cell_type": "code",
   "execution_count": 15,
   "metadata": {},
   "outputs": [],
   "source": [
    "wind_2016 = wind[(wind.datetime>\"2016\") & (wind.datetime<\"2017\")]\n"
   ]
  },
  {
   "cell_type": "code",
   "execution_count": 25,
   "metadata": {},
   "outputs": [
    {
     "name": "stderr",
     "output_type": "stream",
     "text": [
      "/Users/b1017579/.pyenv/versions/3.6.6/lib/python3.6/site-packages/ipykernel_launcher.py:2: SettingWithCopyWarning: \n",
      "A value is trying to be set on a copy of a slice from a DataFrame.\n",
      "Try using .loc[row_indexer,col_indexer] = value instead\n",
      "\n",
      "See the caveats in the documentation: http://pandas.pydata.org/pandas-docs/stable/indexing.html#indexing-view-versus-copy\n",
      "  \n"
     ]
    },
    {
     "data": {
      "text/html": [
       "<div>\n",
       "<style scoped>\n",
       "    .dataframe tbody tr th:only-of-type {\n",
       "        vertical-align: middle;\n",
       "    }\n",
       "\n",
       "    .dataframe tbody tr th {\n",
       "        vertical-align: top;\n",
       "    }\n",
       "\n",
       "    .dataframe thead th {\n",
       "        text-align: right;\n",
       "    }\n",
       "</style>\n",
       "<table border=\"1\" class=\"dataframe\">\n",
       "  <thead>\n",
       "    <tr style=\"text-align: right;\">\n",
       "      <th></th>\n",
       "      <th>Unnamed: 0</th>\n",
       "      <th>datetime</th>\n",
       "      <th>offshore</th>\n",
       "      <th>onshore</th>\n",
       "      <th>diff</th>\n",
       "    </tr>\n",
       "  </thead>\n",
       "  <tbody>\n",
       "    <tr>\n",
       "      <th>315553</th>\n",
       "      <td>315553</td>\n",
       "      <td>2016-01-01 01:00:00</td>\n",
       "      <td>0.4152</td>\n",
       "      <td>0.4315</td>\n",
       "      <td>NaN</td>\n",
       "    </tr>\n",
       "    <tr>\n",
       "      <th>315554</th>\n",
       "      <td>315554</td>\n",
       "      <td>2016-01-01 02:00:00</td>\n",
       "      <td>0.3134</td>\n",
       "      <td>0.4005</td>\n",
       "      <td>-0.0310</td>\n",
       "    </tr>\n",
       "    <tr>\n",
       "      <th>315555</th>\n",
       "      <td>315555</td>\n",
       "      <td>2016-01-01 03:00:00</td>\n",
       "      <td>0.2164</td>\n",
       "      <td>0.3690</td>\n",
       "      <td>-0.0315</td>\n",
       "    </tr>\n",
       "    <tr>\n",
       "      <th>315556</th>\n",
       "      <td>315556</td>\n",
       "      <td>2016-01-01 04:00:00</td>\n",
       "      <td>0.1547</td>\n",
       "      <td>0.3394</td>\n",
       "      <td>-0.0296</td>\n",
       "    </tr>\n",
       "    <tr>\n",
       "      <th>315557</th>\n",
       "      <td>315557</td>\n",
       "      <td>2016-01-01 05:00:00</td>\n",
       "      <td>0.1493</td>\n",
       "      <td>0.3225</td>\n",
       "      <td>-0.0169</td>\n",
       "    </tr>\n",
       "  </tbody>\n",
       "</table>\n",
       "</div>"
      ],
      "text/plain": [
       "        Unnamed: 0            datetime  offshore  onshore    diff\n",
       "315553      315553 2016-01-01 01:00:00    0.4152   0.4315     NaN\n",
       "315554      315554 2016-01-01 02:00:00    0.3134   0.4005 -0.0310\n",
       "315555      315555 2016-01-01 03:00:00    0.2164   0.3690 -0.0315\n",
       "315556      315556 2016-01-01 04:00:00    0.1547   0.3394 -0.0296\n",
       "315557      315557 2016-01-01 05:00:00    0.1493   0.3225 -0.0169"
      ]
     },
     "execution_count": 25,
     "metadata": {},
     "output_type": "execute_result"
    }
   ],
   "source": [
    "wind_diff_2016=wind_2016.copy()\n",
    "wind_2016['diff'] = wind_diff_2016.diff()['onshore']\n",
    "wind_2016.head()"
   ]
  },
  {
   "cell_type": "code",
   "execution_count": 34,
   "metadata": {},
   "outputs": [
    {
     "data": {
      "text/html": [
       "<div>\n",
       "<style scoped>\n",
       "    .dataframe tbody tr th:only-of-type {\n",
       "        vertical-align: middle;\n",
       "    }\n",
       "\n",
       "    .dataframe tbody tr th {\n",
       "        vertical-align: top;\n",
       "    }\n",
       "\n",
       "    .dataframe thead th {\n",
       "        text-align: right;\n",
       "    }\n",
       "</style>\n",
       "<table border=\"1\" class=\"dataframe\">\n",
       "  <thead>\n",
       "    <tr style=\"text-align: right;\">\n",
       "      <th></th>\n",
       "      <th>level_0</th>\n",
       "      <th>index</th>\n",
       "      <th>Unnamed: 0</th>\n",
       "      <th>datetime</th>\n",
       "      <th>offshore</th>\n",
       "      <th>onshore</th>\n",
       "      <th>diff</th>\n",
       "    </tr>\n",
       "  </thead>\n",
       "  <tbody>\n",
       "    <tr>\n",
       "      <th>0</th>\n",
       "      <td>0</td>\n",
       "      <td>318536</td>\n",
       "      <td>318536</td>\n",
       "      <td>2016-05-04 08:00:00</td>\n",
       "      <td>0.2852</td>\n",
       "      <td>0.4924</td>\n",
       "      <td>0.1157</td>\n",
       "    </tr>\n",
       "    <tr>\n",
       "      <th>1</th>\n",
       "      <td>1</td>\n",
       "      <td>316296</td>\n",
       "      <td>316296</td>\n",
       "      <td>2016-02-01 00:00:00</td>\n",
       "      <td>0.8822</td>\n",
       "      <td>0.6509</td>\n",
       "      <td>0.1088</td>\n",
       "    </tr>\n",
       "    <tr>\n",
       "      <th>2</th>\n",
       "      <td>2</td>\n",
       "      <td>316738</td>\n",
       "      <td>316738</td>\n",
       "      <td>2016-02-19 10:00:00</td>\n",
       "      <td>0.4687</td>\n",
       "      <td>0.5116</td>\n",
       "      <td>0.1024</td>\n",
       "    </tr>\n",
       "    <tr>\n",
       "      <th>3</th>\n",
       "      <td>3</td>\n",
       "      <td>321993</td>\n",
       "      <td>321993</td>\n",
       "      <td>2016-09-25 09:00:00</td>\n",
       "      <td>0.5785</td>\n",
       "      <td>0.4500</td>\n",
       "      <td>0.1014</td>\n",
       "    </tr>\n",
       "    <tr>\n",
       "      <th>4</th>\n",
       "      <td>4</td>\n",
       "      <td>318944</td>\n",
       "      <td>318944</td>\n",
       "      <td>2016-05-21 08:00:00</td>\n",
       "      <td>0.7126</td>\n",
       "      <td>0.4767</td>\n",
       "      <td>0.0977</td>\n",
       "    </tr>\n",
       "  </tbody>\n",
       "</table>\n",
       "</div>"
      ],
      "text/plain": [
       "   level_0   index  Unnamed: 0            datetime  offshore  onshore    diff\n",
       "0        0  318536      318536 2016-05-04 08:00:00    0.2852   0.4924  0.1157\n",
       "1        1  316296      316296 2016-02-01 00:00:00    0.8822   0.6509  0.1088\n",
       "2        2  316738      316738 2016-02-19 10:00:00    0.4687   0.5116  0.1024\n",
       "3        3  321993      321993 2016-09-25 09:00:00    0.5785   0.4500  0.1014\n",
       "4        4  318944      318944 2016-05-21 08:00:00    0.7126   0.4767  0.0977"
      ]
     },
     "execution_count": 34,
     "metadata": {},
     "output_type": "execute_result"
    }
   ],
   "source": [
    "wind_2016_sorted = wind_2016.sort_values('diff', ascending=False).reset_index().reset_index()\n",
    "wind_2016_sorted.head()"
   ]
  },
  {
   "cell_type": "code",
   "execution_count": 35,
   "metadata": {},
   "outputs": [
    {
     "data": {
      "text/plain": [
       "<matplotlib.axes._subplots.AxesSubplot at 0x1217b82e8>"
      ]
     },
     "execution_count": 35,
     "metadata": {},
     "output_type": "execute_result"
    },
    {
     "data": {
      "image/png": "[encoded data removed]",
      "text/plain": [
       "<Figure size 432x288 with 1 Axes>"
      ]
     },
     "metadata": {
      "needs_background": "light"
     },
     "output_type": "display_data"
    }
   ],
   "source": [
    "sns.lineplot(data=wind_2016_sorted, x='level_0', y='diff')"
   ]
  },
  {
   "cell_type": "code",
   "execution_count": 42,
   "metadata": {},
   "outputs": [
    {
     "data": {
      "text/html": [
       "<div>\n",
       "<style scoped>\n",
       "    .dataframe tbody tr th:only-of-type {\n",
       "        vertical-align: middle;\n",
       "    }\n",
       "\n",
       "    .dataframe tbody tr th {\n",
       "        vertical-align: top;\n",
       "    }\n",
       "\n",
       "    .dataframe thead th {\n",
       "        text-align: right;\n",
       "    }\n",
       "</style>\n",
       "<table border=\"1\" class=\"dataframe\">\n",
       "  <thead>\n",
       "    <tr style=\"text-align: right;\">\n",
       "      <th></th>\n",
       "      <th>Unnamed: 0</th>\n",
       "      <th>datetime</th>\n",
       "      <th>offshore</th>\n",
       "      <th>onshore</th>\n",
       "      <th>year</th>\n",
       "      <th>diff</th>\n",
       "    </tr>\n",
       "  </thead>\n",
       "  <tbody>\n",
       "    <tr>\n",
       "      <th>0</th>\n",
       "      <td>0</td>\n",
       "      <td>1980-01-01 00:00:00</td>\n",
       "      <td>0.2858</td>\n",
       "      <td>0.1496</td>\n",
       "      <td>1980</td>\n",
       "      <td>NaN</td>\n",
       "    </tr>\n",
       "    <tr>\n",
       "      <th>1</th>\n",
       "      <td>1</td>\n",
       "      <td>1980-01-01 01:00:00</td>\n",
       "      <td>0.2827</td>\n",
       "      <td>0.1502</td>\n",
       "      <td>1980</td>\n",
       "      <td>0.0006</td>\n",
       "    </tr>\n",
       "    <tr>\n",
       "      <th>2</th>\n",
       "      <td>2</td>\n",
       "      <td>1980-01-01 02:00:00</td>\n",
       "      <td>0.2852</td>\n",
       "      <td>0.1485</td>\n",
       "      <td>1980</td>\n",
       "      <td>-0.0017</td>\n",
       "    </tr>\n",
       "    <tr>\n",
       "      <th>3</th>\n",
       "      <td>3</td>\n",
       "      <td>1980-01-01 03:00:00</td>\n",
       "      <td>0.2920</td>\n",
       "      <td>0.1470</td>\n",
       "      <td>1980</td>\n",
       "      <td>-0.0015</td>\n",
       "    </tr>\n",
       "    <tr>\n",
       "      <th>4</th>\n",
       "      <td>4</td>\n",
       "      <td>1980-01-01 04:00:00</td>\n",
       "      <td>0.3039</td>\n",
       "      <td>0.1489</td>\n",
       "      <td>1980</td>\n",
       "      <td>0.0019</td>\n",
       "    </tr>\n",
       "  </tbody>\n",
       "</table>\n",
       "</div>"
      ],
      "text/plain": [
       "   Unnamed: 0            datetime  offshore  onshore  year    diff\n",
       "0           0 1980-01-01 00:00:00    0.2858   0.1496  1980     NaN\n",
       "1           1 1980-01-01 01:00:00    0.2827   0.1502  1980  0.0006\n",
       "2           2 1980-01-01 02:00:00    0.2852   0.1485  1980 -0.0017\n",
       "3           3 1980-01-01 03:00:00    0.2920   0.1470  1980 -0.0015\n",
       "4           4 1980-01-01 04:00:00    0.3039   0.1489  1980  0.0019"
      ]
     },
     "execution_count": 42,
     "metadata": {},
     "output_type": "execute_result"
    }
   ],
   "source": [
    "wind['year'] = wind.datetime.dt.year\n",
    "\n",
    "wind_diff=wind.copy()\n",
    "wind_diff['diff'] = wind_diff.diff()['onshore']\n",
    "wind_diff.head()"
   ]
  },
  {
   "cell_type": "code",
   "execution_count": 45,
   "metadata": {},
   "outputs": [
    {
     "data": {
      "text/html": [
       "<div>\n",
       "<style scoped>\n",
       "    .dataframe tbody tr th:only-of-type {\n",
       "        vertical-align: middle;\n",
       "    }\n",
       "\n",
       "    .dataframe tbody tr th {\n",
       "        vertical-align: top;\n",
       "    }\n",
       "\n",
       "    .dataframe thead th {\n",
       "        text-align: right;\n",
       "    }\n",
       "</style>\n",
       "<table border=\"1\" class=\"dataframe\">\n",
       "  <thead>\n",
       "    <tr style=\"text-align: right;\">\n",
       "      <th></th>\n",
       "      <th></th>\n",
       "      <th>level_0</th>\n",
       "      <th>index</th>\n",
       "      <th>Unnamed: 0</th>\n",
       "      <th>datetime</th>\n",
       "      <th>offshore</th>\n",
       "      <th>onshore</th>\n",
       "      <th>year</th>\n",
       "      <th>diff</th>\n",
       "    </tr>\n",
       "    <tr>\n",
       "      <th>year</th>\n",
       "      <th></th>\n",
       "      <th></th>\n",
       "      <th></th>\n",
       "      <th></th>\n",
       "      <th></th>\n",
       "      <th></th>\n",
       "      <th></th>\n",
       "      <th></th>\n",
       "      <th></th>\n",
       "    </tr>\n",
       "  </thead>\n",
       "  <tbody>\n",
       "    <tr>\n",
       "      <th rowspan=\"5\" valign=\"top\">1980</th>\n",
       "      <th>0</th>\n",
       "      <td>0</td>\n",
       "      <td>6082</td>\n",
       "      <td>6082</td>\n",
       "      <td>1980-09-10 10:00:00</td>\n",
       "      <td>0.7680</td>\n",
       "      <td>0.5221</td>\n",
       "      <td>1980</td>\n",
       "      <td>0.1597</td>\n",
       "    </tr>\n",
       "    <tr>\n",
       "      <th>1</th>\n",
       "      <td>1</td>\n",
       "      <td>1978</td>\n",
       "      <td>1978</td>\n",
       "      <td>1980-03-23 10:00:00</td>\n",
       "      <td>0.5642</td>\n",
       "      <td>0.4387</td>\n",
       "      <td>1980</td>\n",
       "      <td>0.1155</td>\n",
       "    </tr>\n",
       "    <tr>\n",
       "      <th>2</th>\n",
       "      <td>2</td>\n",
       "      <td>8366</td>\n",
       "      <td>8366</td>\n",
       "      <td>1980-12-14 14:00:00</td>\n",
       "      <td>0.9771</td>\n",
       "      <td>0.5869</td>\n",
       "      <td>1980</td>\n",
       "      <td>0.1073</td>\n",
       "    </tr>\n",
       "    <tr>\n",
       "      <th>3</th>\n",
       "      <td>3</td>\n",
       "      <td>8367</td>\n",
       "      <td>8367</td>\n",
       "      <td>1980-12-14 15:00:00</td>\n",
       "      <td>0.9713</td>\n",
       "      <td>0.6921</td>\n",
       "      <td>1980</td>\n",
       "      <td>0.1052</td>\n",
       "    </tr>\n",
       "    <tr>\n",
       "      <th>4</th>\n",
       "      <td>4</td>\n",
       "      <td>1977</td>\n",
       "      <td>1977</td>\n",
       "      <td>1980-03-23 09:00:00</td>\n",
       "      <td>0.5444</td>\n",
       "      <td>0.3232</td>\n",
       "      <td>1980</td>\n",
       "      <td>0.1017</td>\n",
       "    </tr>\n",
       "  </tbody>\n",
       "</table>\n",
       "</div>"
      ],
      "text/plain": [
       "        level_0  index  Unnamed: 0            datetime  offshore  onshore  \\\n",
       "year                                                                        \n",
       "1980 0        0   6082        6082 1980-09-10 10:00:00    0.7680   0.5221   \n",
       "     1        1   1978        1978 1980-03-23 10:00:00    0.5642   0.4387   \n",
       "     2        2   8366        8366 1980-12-14 14:00:00    0.9771   0.5869   \n",
       "     3        3   8367        8367 1980-12-14 15:00:00    0.9713   0.6921   \n",
       "     4        4   1977        1977 1980-03-23 09:00:00    0.5444   0.3232   \n",
       "\n",
       "        year    diff  \n",
       "year                  \n",
       "1980 0  1980  0.1597  \n",
       "     1  1980  0.1155  \n",
       "     2  1980  0.1073  \n",
       "     3  1980  0.1052  \n",
       "     4  1980  0.1017  "
      ]
     },
     "execution_count": 45,
     "metadata": {},
     "output_type": "execute_result"
    }
   ],
   "source": [
    "wind_each_year = wind_diff.groupby('year').apply(lambda x: x.sort_values('diff', ascending=False).reset_index().reset_index())\n",
    "wind_each_year.head()"
   ]
  },
  {
   "cell_type": "code",
   "execution_count": 46,
   "metadata": {},
   "outputs": [
    {
     "data": {
      "text/plain": [
       "<matplotlib.axes._subplots.AxesSubplot at 0x1214a7f28>"
      ]
     },
     "execution_count": 46,
     "metadata": {},
     "output_type": "execute_result"
    },
    {
     "data": {
      "image/png": "[encoded data removed]",
      "text/plain": [
       "<Figure size 432x288 with 1 Axes>"
      ]
     },
     "metadata": {
      "needs_background": "light"
     },
     "output_type": "display_data"
    }
   ],
   "source": [
    "sns.lineplot(data=wind_each_year, x='level_0', y='diff', hue='year')"
   ]
  }
 ],
 "metadata": {
  "kernelspec": {
   "display_name": "Python 3",
   "language": "python",
   "name": "python3"
  },
  "language_info": {
   "codemirror_mode": {
    "name": "ipython",
    "version": 3
   },
   "file_extension": ".py",
   "mimetype": "text/x-python",
   "name": "python",
   "nbconvert_exporter": "python",
   "pygments_lexer": "ipython3",
   "version": "3.6.6"
  }
 },
 "nbformat": 4,
 "nbformat_minor": 2
}
